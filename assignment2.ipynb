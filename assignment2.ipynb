{
 "cells": [
  {
   "cell_type": "code",
   "execution_count": 1,
   "metadata": {},
   "outputs": [],
   "source": [
    "import numpy as np\n",
    "import pandas as pd\n",
    "from sklearn.model_selection import train_test_split, KFold, cross_val_score, cross_val_predict, GridSearchCV, RandomizedSearchCV, StratifiedShuffleSplit\n",
    "from sklearn.ensemble import RandomForestRegressor, GradientBoostingRegressor\n",
    "from sklearn.experimental import enable_hist_gradient_boosting\n",
    "from sklearn.ensemble import HistGradientBoostingRegressor\n",
    "from sklearn.neighbors import KNeighborsRegressor\n",
    "from sklearn.linear_model import LinearRegression, Ridge, SGDRegressor\n",
    "from sklearn.svm import LinearSVR, SVR\n",
    "from sklearn.tree import DecisionTreeRegressor\n",
    "from sklearn.preprocessing import LabelEncoder, OneHotEncoder, LabelBinarizer, StandardScaler\n",
    "from sklearn.pipeline import Pipeline, FeatureUnion\n",
    "from sklearn.feature_selection import RFECV\n",
    "from sklearn.base import BaseEstimator, TransformerMixin\n",
    "from sklearn.metrics import mean_squared_error, mean_squared_log_error\n",
    "from functools import partial\n",
    "import matplotlib.pyplot as plt\n",
    "import seaborn as sns\n",
    "import ast\n",
    "import datetime\n",
    "from sklearn.model_selection import RandomizedSearchCV\n",
    "import math\n",
    "import pprint\n",
    "import json\n",
    "import scipy.stats\n",
    "from sklearn.model_selection import train_test_split\n",
    "import os\n",
    "import eli5\n",
    "from eli5.sklearn import PermutationImportance"
   ]
  },
  {
   "cell_type": "code",
   "execution_count": 2,
   "metadata": {},
   "outputs": [],
   "source": [
    "RANDOM_STATE = 42"
   ]
  },
  {
   "cell_type": "code",
   "execution_count": 3,
   "metadata": {},
   "outputs": [],
   "source": [
    "pd.set_option('display.max_columns', None)"
   ]
  },
  {
   "cell_type": "code",
   "execution_count": 4,
   "metadata": {},
   "outputs": [],
   "source": [
    "data = pd.read_csv('data/train.csv')"
   ]
  },
  {
   "cell_type": "code",
   "execution_count": 5,
   "metadata": {},
   "outputs": [],
   "source": [
    "test = pd.read_csv('data/test.csv')"
   ]
  },
  {
   "cell_type": "code",
   "execution_count": 6,
   "metadata": {},
   "outputs": [
    {
     "name": "stdout",
     "output_type": "stream",
     "text": [
      "<class 'pandas.core.frame.DataFrame'>\n",
      "RangeIndex: 3000 entries, 0 to 2999\n",
      "Data columns (total 23 columns):\n",
      "id                       3000 non-null int64\n",
      "belongs_to_collection    604 non-null object\n",
      "budget                   3000 non-null int64\n",
      "genres                   2993 non-null object\n",
      "homepage                 946 non-null object\n",
      "imdb_id                  3000 non-null object\n",
      "original_language        3000 non-null object\n",
      "original_title           3000 non-null object\n",
      "overview                 2992 non-null object\n",
      "popularity               3000 non-null float64\n",
      "poster_path              2999 non-null object\n",
      "production_companies     2844 non-null object\n",
      "production_countries     2945 non-null object\n",
      "release_date             3000 non-null object\n",
      "runtime                  2998 non-null float64\n",
      "spoken_languages         2980 non-null object\n",
      "status                   3000 non-null object\n",
      "tagline                  2403 non-null object\n",
      "title                    3000 non-null object\n",
      "Keywords                 2724 non-null object\n",
      "cast                     2987 non-null object\n",
      "crew                     2984 non-null object\n",
      "revenue                  3000 non-null int64\n",
      "dtypes: float64(2), int64(3), object(18)\n",
      "memory usage: 539.1+ KB\n"
     ]
    }
   ],
   "source": [
    "data.info()"
   ]
  },
  {
   "cell_type": "code",
   "execution_count": 7,
   "metadata": {},
   "outputs": [
    {
     "data": {
      "text/plain": [
       "3000"
      ]
     },
     "execution_count": 7,
     "metadata": {},
     "output_type": "execute_result"
    }
   ],
   "source": [
    "len(data)"
   ]
  },
  {
   "cell_type": "code",
   "execution_count": 8,
   "metadata": {},
   "outputs": [
    {
     "data": {
      "text/plain": [
       "4398"
      ]
     },
     "execution_count": 8,
     "metadata": {},
     "output_type": "execute_result"
    }
   ],
   "source": [
    "len(test)"
   ]
  },
  {
   "cell_type": "code",
   "execution_count": 9,
   "metadata": {
    "scrolled": false
   },
   "outputs": [
    {
     "data": {
      "text/html": [
       "<div>\n",
       "<style scoped>\n",
       "    .dataframe tbody tr th:only-of-type {\n",
       "        vertical-align: middle;\n",
       "    }\n",
       "\n",
       "    .dataframe tbody tr th {\n",
       "        vertical-align: top;\n",
       "    }\n",
       "\n",
       "    .dataframe thead th {\n",
       "        text-align: right;\n",
       "    }\n",
       "</style>\n",
       "<table border=\"1\" class=\"dataframe\">\n",
       "  <thead>\n",
       "    <tr style=\"text-align: right;\">\n",
       "      <th></th>\n",
       "      <th>id</th>\n",
       "      <th>belongs_to_collection</th>\n",
       "      <th>budget</th>\n",
       "      <th>genres</th>\n",
       "      <th>homepage</th>\n",
       "      <th>imdb_id</th>\n",
       "      <th>original_language</th>\n",
       "      <th>original_title</th>\n",
       "      <th>overview</th>\n",
       "      <th>popularity</th>\n",
       "      <th>poster_path</th>\n",
       "      <th>production_companies</th>\n",
       "      <th>production_countries</th>\n",
       "      <th>release_date</th>\n",
       "      <th>runtime</th>\n",
       "      <th>spoken_languages</th>\n",
       "      <th>status</th>\n",
       "      <th>tagline</th>\n",
       "      <th>title</th>\n",
       "      <th>Keywords</th>\n",
       "      <th>cast</th>\n",
       "      <th>crew</th>\n",
       "      <th>revenue</th>\n",
       "    </tr>\n",
       "  </thead>\n",
       "  <tbody>\n",
       "    <tr>\n",
       "      <th>count</th>\n",
       "      <td>3000.000000</td>\n",
       "      <td>604</td>\n",
       "      <td>3.000000e+03</td>\n",
       "      <td>2993</td>\n",
       "      <td>946</td>\n",
       "      <td>3000</td>\n",
       "      <td>3000</td>\n",
       "      <td>3000</td>\n",
       "      <td>2992</td>\n",
       "      <td>3000.000000</td>\n",
       "      <td>2999</td>\n",
       "      <td>2844</td>\n",
       "      <td>2945</td>\n",
       "      <td>3000</td>\n",
       "      <td>2998.000000</td>\n",
       "      <td>2980</td>\n",
       "      <td>3000</td>\n",
       "      <td>2403</td>\n",
       "      <td>3000</td>\n",
       "      <td>2724</td>\n",
       "      <td>2987</td>\n",
       "      <td>2984</td>\n",
       "      <td>3.000000e+03</td>\n",
       "    </tr>\n",
       "    <tr>\n",
       "      <th>unique</th>\n",
       "      <td>NaN</td>\n",
       "      <td>422</td>\n",
       "      <td>NaN</td>\n",
       "      <td>872</td>\n",
       "      <td>941</td>\n",
       "      <td>3000</td>\n",
       "      <td>36</td>\n",
       "      <td>2975</td>\n",
       "      <td>2992</td>\n",
       "      <td>NaN</td>\n",
       "      <td>2999</td>\n",
       "      <td>2383</td>\n",
       "      <td>321</td>\n",
       "      <td>2398</td>\n",
       "      <td>NaN</td>\n",
       "      <td>401</td>\n",
       "      <td>2</td>\n",
       "      <td>2400</td>\n",
       "      <td>2969</td>\n",
       "      <td>2648</td>\n",
       "      <td>2975</td>\n",
       "      <td>2984</td>\n",
       "      <td>NaN</td>\n",
       "    </tr>\n",
       "    <tr>\n",
       "      <th>top</th>\n",
       "      <td>NaN</td>\n",
       "      <td>[{'id': 645, 'name': 'James Bond Collection', ...</td>\n",
       "      <td>NaN</td>\n",
       "      <td>[{'id': 18, 'name': 'Drama'}]</td>\n",
       "      <td>http://www.transformersmovie.com/</td>\n",
       "      <td>tt0477337</td>\n",
       "      <td>en</td>\n",
       "      <td>Red Dawn</td>\n",
       "      <td>Air Force One is shot down by terrorists, leav...</td>\n",
       "      <td>NaN</td>\n",
       "      <td>/uYVheUBf8ITaocUP4Og9GXxOMIH.jpg</td>\n",
       "      <td>[{'name': 'Paramount Pictures', 'id': 4}]</td>\n",
       "      <td>[{'iso_3166_1': 'US', 'name': 'United States o...</td>\n",
       "      <td>9/10/10</td>\n",
       "      <td>NaN</td>\n",
       "      <td>[{'iso_639_1': 'en', 'name': 'English'}]</td>\n",
       "      <td>Released</td>\n",
       "      <td>Based on a true story.</td>\n",
       "      <td>Black Sheep</td>\n",
       "      <td>[{'id': 10183, 'name': 'independent film'}]</td>\n",
       "      <td>[]</td>\n",
       "      <td>[{'credit_id': '52fe44c3c3a36847f80a8a4f', 'de...</td>\n",
       "      <td>NaN</td>\n",
       "    </tr>\n",
       "    <tr>\n",
       "      <th>freq</th>\n",
       "      <td>NaN</td>\n",
       "      <td>16</td>\n",
       "      <td>NaN</td>\n",
       "      <td>266</td>\n",
       "      <td>4</td>\n",
       "      <td>1</td>\n",
       "      <td>2575</td>\n",
       "      <td>2</td>\n",
       "      <td>1</td>\n",
       "      <td>NaN</td>\n",
       "      <td>1</td>\n",
       "      <td>51</td>\n",
       "      <td>1752</td>\n",
       "      <td>5</td>\n",
       "      <td>NaN</td>\n",
       "      <td>1817</td>\n",
       "      <td>2996</td>\n",
       "      <td>3</td>\n",
       "      <td>2</td>\n",
       "      <td>27</td>\n",
       "      <td>13</td>\n",
       "      <td>1</td>\n",
       "      <td>NaN</td>\n",
       "    </tr>\n",
       "    <tr>\n",
       "      <th>mean</th>\n",
       "      <td>1500.500000</td>\n",
       "      <td>NaN</td>\n",
       "      <td>2.253133e+07</td>\n",
       "      <td>NaN</td>\n",
       "      <td>NaN</td>\n",
       "      <td>NaN</td>\n",
       "      <td>NaN</td>\n",
       "      <td>NaN</td>\n",
       "      <td>NaN</td>\n",
       "      <td>8.463274</td>\n",
       "      <td>NaN</td>\n",
       "      <td>NaN</td>\n",
       "      <td>NaN</td>\n",
       "      <td>NaN</td>\n",
       "      <td>107.856571</td>\n",
       "      <td>NaN</td>\n",
       "      <td>NaN</td>\n",
       "      <td>NaN</td>\n",
       "      <td>NaN</td>\n",
       "      <td>NaN</td>\n",
       "      <td>NaN</td>\n",
       "      <td>NaN</td>\n",
       "      <td>6.672585e+07</td>\n",
       "    </tr>\n",
       "    <tr>\n",
       "      <th>std</th>\n",
       "      <td>866.169729</td>\n",
       "      <td>NaN</td>\n",
       "      <td>3.702609e+07</td>\n",
       "      <td>NaN</td>\n",
       "      <td>NaN</td>\n",
       "      <td>NaN</td>\n",
       "      <td>NaN</td>\n",
       "      <td>NaN</td>\n",
       "      <td>NaN</td>\n",
       "      <td>12.104000</td>\n",
       "      <td>NaN</td>\n",
       "      <td>NaN</td>\n",
       "      <td>NaN</td>\n",
       "      <td>NaN</td>\n",
       "      <td>22.086434</td>\n",
       "      <td>NaN</td>\n",
       "      <td>NaN</td>\n",
       "      <td>NaN</td>\n",
       "      <td>NaN</td>\n",
       "      <td>NaN</td>\n",
       "      <td>NaN</td>\n",
       "      <td>NaN</td>\n",
       "      <td>1.375323e+08</td>\n",
       "    </tr>\n",
       "    <tr>\n",
       "      <th>min</th>\n",
       "      <td>1.000000</td>\n",
       "      <td>NaN</td>\n",
       "      <td>0.000000e+00</td>\n",
       "      <td>NaN</td>\n",
       "      <td>NaN</td>\n",
       "      <td>NaN</td>\n",
       "      <td>NaN</td>\n",
       "      <td>NaN</td>\n",
       "      <td>NaN</td>\n",
       "      <td>0.000001</td>\n",
       "      <td>NaN</td>\n",
       "      <td>NaN</td>\n",
       "      <td>NaN</td>\n",
       "      <td>NaN</td>\n",
       "      <td>0.000000</td>\n",
       "      <td>NaN</td>\n",
       "      <td>NaN</td>\n",
       "      <td>NaN</td>\n",
       "      <td>NaN</td>\n",
       "      <td>NaN</td>\n",
       "      <td>NaN</td>\n",
       "      <td>NaN</td>\n",
       "      <td>1.000000e+00</td>\n",
       "    </tr>\n",
       "    <tr>\n",
       "      <th>25%</th>\n",
       "      <td>750.750000</td>\n",
       "      <td>NaN</td>\n",
       "      <td>0.000000e+00</td>\n",
       "      <td>NaN</td>\n",
       "      <td>NaN</td>\n",
       "      <td>NaN</td>\n",
       "      <td>NaN</td>\n",
       "      <td>NaN</td>\n",
       "      <td>NaN</td>\n",
       "      <td>4.018053</td>\n",
       "      <td>NaN</td>\n",
       "      <td>NaN</td>\n",
       "      <td>NaN</td>\n",
       "      <td>NaN</td>\n",
       "      <td>94.000000</td>\n",
       "      <td>NaN</td>\n",
       "      <td>NaN</td>\n",
       "      <td>NaN</td>\n",
       "      <td>NaN</td>\n",
       "      <td>NaN</td>\n",
       "      <td>NaN</td>\n",
       "      <td>NaN</td>\n",
       "      <td>2.379808e+06</td>\n",
       "    </tr>\n",
       "    <tr>\n",
       "      <th>50%</th>\n",
       "      <td>1500.500000</td>\n",
       "      <td>NaN</td>\n",
       "      <td>8.000000e+06</td>\n",
       "      <td>NaN</td>\n",
       "      <td>NaN</td>\n",
       "      <td>NaN</td>\n",
       "      <td>NaN</td>\n",
       "      <td>NaN</td>\n",
       "      <td>NaN</td>\n",
       "      <td>7.374861</td>\n",
       "      <td>NaN</td>\n",
       "      <td>NaN</td>\n",
       "      <td>NaN</td>\n",
       "      <td>NaN</td>\n",
       "      <td>104.000000</td>\n",
       "      <td>NaN</td>\n",
       "      <td>NaN</td>\n",
       "      <td>NaN</td>\n",
       "      <td>NaN</td>\n",
       "      <td>NaN</td>\n",
       "      <td>NaN</td>\n",
       "      <td>NaN</td>\n",
       "      <td>1.680707e+07</td>\n",
       "    </tr>\n",
       "    <tr>\n",
       "      <th>75%</th>\n",
       "      <td>2250.250000</td>\n",
       "      <td>NaN</td>\n",
       "      <td>2.900000e+07</td>\n",
       "      <td>NaN</td>\n",
       "      <td>NaN</td>\n",
       "      <td>NaN</td>\n",
       "      <td>NaN</td>\n",
       "      <td>NaN</td>\n",
       "      <td>NaN</td>\n",
       "      <td>10.890983</td>\n",
       "      <td>NaN</td>\n",
       "      <td>NaN</td>\n",
       "      <td>NaN</td>\n",
       "      <td>NaN</td>\n",
       "      <td>118.000000</td>\n",
       "      <td>NaN</td>\n",
       "      <td>NaN</td>\n",
       "      <td>NaN</td>\n",
       "      <td>NaN</td>\n",
       "      <td>NaN</td>\n",
       "      <td>NaN</td>\n",
       "      <td>NaN</td>\n",
       "      <td>6.891920e+07</td>\n",
       "    </tr>\n",
       "    <tr>\n",
       "      <th>max</th>\n",
       "      <td>3000.000000</td>\n",
       "      <td>NaN</td>\n",
       "      <td>3.800000e+08</td>\n",
       "      <td>NaN</td>\n",
       "      <td>NaN</td>\n",
       "      <td>NaN</td>\n",
       "      <td>NaN</td>\n",
       "      <td>NaN</td>\n",
       "      <td>NaN</td>\n",
       "      <td>294.337037</td>\n",
       "      <td>NaN</td>\n",
       "      <td>NaN</td>\n",
       "      <td>NaN</td>\n",
       "      <td>NaN</td>\n",
       "      <td>338.000000</td>\n",
       "      <td>NaN</td>\n",
       "      <td>NaN</td>\n",
       "      <td>NaN</td>\n",
       "      <td>NaN</td>\n",
       "      <td>NaN</td>\n",
       "      <td>NaN</td>\n",
       "      <td>NaN</td>\n",
       "      <td>1.519558e+09</td>\n",
       "    </tr>\n",
       "  </tbody>\n",
       "</table>\n",
       "</div>"
      ],
      "text/plain": [
       "                 id                              belongs_to_collection  \\\n",
       "count   3000.000000                                                604   \n",
       "unique          NaN                                                422   \n",
       "top             NaN  [{'id': 645, 'name': 'James Bond Collection', ...   \n",
       "freq            NaN                                                 16   \n",
       "mean    1500.500000                                                NaN   \n",
       "std      866.169729                                                NaN   \n",
       "min        1.000000                                                NaN   \n",
       "25%      750.750000                                                NaN   \n",
       "50%     1500.500000                                                NaN   \n",
       "75%     2250.250000                                                NaN   \n",
       "max     3000.000000                                                NaN   \n",
       "\n",
       "              budget                         genres  \\\n",
       "count   3.000000e+03                           2993   \n",
       "unique           NaN                            872   \n",
       "top              NaN  [{'id': 18, 'name': 'Drama'}]   \n",
       "freq             NaN                            266   \n",
       "mean    2.253133e+07                            NaN   \n",
       "std     3.702609e+07                            NaN   \n",
       "min     0.000000e+00                            NaN   \n",
       "25%     0.000000e+00                            NaN   \n",
       "50%     8.000000e+06                            NaN   \n",
       "75%     2.900000e+07                            NaN   \n",
       "max     3.800000e+08                            NaN   \n",
       "\n",
       "                                 homepage    imdb_id original_language  \\\n",
       "count                                 946       3000              3000   \n",
       "unique                                941       3000                36   \n",
       "top     http://www.transformersmovie.com/  tt0477337                en   \n",
       "freq                                    4          1              2575   \n",
       "mean                                  NaN        NaN               NaN   \n",
       "std                                   NaN        NaN               NaN   \n",
       "min                                   NaN        NaN               NaN   \n",
       "25%                                   NaN        NaN               NaN   \n",
       "50%                                   NaN        NaN               NaN   \n",
       "75%                                   NaN        NaN               NaN   \n",
       "max                                   NaN        NaN               NaN   \n",
       "\n",
       "       original_title                                           overview  \\\n",
       "count            3000                                               2992   \n",
       "unique           2975                                               2992   \n",
       "top          Red Dawn  Air Force One is shot down by terrorists, leav...   \n",
       "freq                2                                                  1   \n",
       "mean              NaN                                                NaN   \n",
       "std               NaN                                                NaN   \n",
       "min               NaN                                                NaN   \n",
       "25%               NaN                                                NaN   \n",
       "50%               NaN                                                NaN   \n",
       "75%               NaN                                                NaN   \n",
       "max               NaN                                                NaN   \n",
       "\n",
       "         popularity                       poster_path  \\\n",
       "count   3000.000000                              2999   \n",
       "unique          NaN                              2999   \n",
       "top             NaN  /uYVheUBf8ITaocUP4Og9GXxOMIH.jpg   \n",
       "freq            NaN                                 1   \n",
       "mean       8.463274                               NaN   \n",
       "std       12.104000                               NaN   \n",
       "min        0.000001                               NaN   \n",
       "25%        4.018053                               NaN   \n",
       "50%        7.374861                               NaN   \n",
       "75%       10.890983                               NaN   \n",
       "max      294.337037                               NaN   \n",
       "\n",
       "                             production_companies  \\\n",
       "count                                        2844   \n",
       "unique                                       2383   \n",
       "top     [{'name': 'Paramount Pictures', 'id': 4}]   \n",
       "freq                                           51   \n",
       "mean                                          NaN   \n",
       "std                                           NaN   \n",
       "min                                           NaN   \n",
       "25%                                           NaN   \n",
       "50%                                           NaN   \n",
       "75%                                           NaN   \n",
       "max                                           NaN   \n",
       "\n",
       "                                     production_countries release_date  \\\n",
       "count                                                2945         3000   \n",
       "unique                                                321         2398   \n",
       "top     [{'iso_3166_1': 'US', 'name': 'United States o...      9/10/10   \n",
       "freq                                                 1752            5   \n",
       "mean                                                  NaN          NaN   \n",
       "std                                                   NaN          NaN   \n",
       "min                                                   NaN          NaN   \n",
       "25%                                                   NaN          NaN   \n",
       "50%                                                   NaN          NaN   \n",
       "75%                                                   NaN          NaN   \n",
       "max                                                   NaN          NaN   \n",
       "\n",
       "            runtime                          spoken_languages    status  \\\n",
       "count   2998.000000                                      2980      3000   \n",
       "unique          NaN                                       401         2   \n",
       "top             NaN  [{'iso_639_1': 'en', 'name': 'English'}]  Released   \n",
       "freq            NaN                                      1817      2996   \n",
       "mean     107.856571                                       NaN       NaN   \n",
       "std       22.086434                                       NaN       NaN   \n",
       "min        0.000000                                       NaN       NaN   \n",
       "25%       94.000000                                       NaN       NaN   \n",
       "50%      104.000000                                       NaN       NaN   \n",
       "75%      118.000000                                       NaN       NaN   \n",
       "max      338.000000                                       NaN       NaN   \n",
       "\n",
       "                       tagline        title  \\\n",
       "count                     2403         3000   \n",
       "unique                    2400         2969   \n",
       "top     Based on a true story.  Black Sheep   \n",
       "freq                         3            2   \n",
       "mean                       NaN          NaN   \n",
       "std                        NaN          NaN   \n",
       "min                        NaN          NaN   \n",
       "25%                        NaN          NaN   \n",
       "50%                        NaN          NaN   \n",
       "75%                        NaN          NaN   \n",
       "max                        NaN          NaN   \n",
       "\n",
       "                                           Keywords  cast  \\\n",
       "count                                          2724  2987   \n",
       "unique                                         2648  2975   \n",
       "top     [{'id': 10183, 'name': 'independent film'}]    []   \n",
       "freq                                             27    13   \n",
       "mean                                            NaN   NaN   \n",
       "std                                             NaN   NaN   \n",
       "min                                             NaN   NaN   \n",
       "25%                                             NaN   NaN   \n",
       "50%                                             NaN   NaN   \n",
       "75%                                             NaN   NaN   \n",
       "max                                             NaN   NaN   \n",
       "\n",
       "                                                     crew       revenue  \n",
       "count                                                2984  3.000000e+03  \n",
       "unique                                               2984           NaN  \n",
       "top     [{'credit_id': '52fe44c3c3a36847f80a8a4f', 'de...           NaN  \n",
       "freq                                                    1           NaN  \n",
       "mean                                                  NaN  6.672585e+07  \n",
       "std                                                   NaN  1.375323e+08  \n",
       "min                                                   NaN  1.000000e+00  \n",
       "25%                                                   NaN  2.379808e+06  \n",
       "50%                                                   NaN  1.680707e+07  \n",
       "75%                                                   NaN  6.891920e+07  \n",
       "max                                                   NaN  1.519558e+09  "
      ]
     },
     "execution_count": 9,
     "metadata": {},
     "output_type": "execute_result"
    }
   ],
   "source": [
    "data.describe(include='all')"
   ]
  },
  {
   "cell_type": "code",
   "execution_count": 10,
   "metadata": {},
   "outputs": [
    {
     "data": {
      "text/html": [
       "<div>\n",
       "<style scoped>\n",
       "    .dataframe tbody tr th:only-of-type {\n",
       "        vertical-align: middle;\n",
       "    }\n",
       "\n",
       "    .dataframe tbody tr th {\n",
       "        vertical-align: top;\n",
       "    }\n",
       "\n",
       "    .dataframe thead th {\n",
       "        text-align: right;\n",
       "    }\n",
       "</style>\n",
       "<table border=\"1\" class=\"dataframe\">\n",
       "  <thead>\n",
       "    <tr style=\"text-align: right;\">\n",
       "      <th></th>\n",
       "      <th>id</th>\n",
       "      <th>belongs_to_collection</th>\n",
       "      <th>budget</th>\n",
       "      <th>genres</th>\n",
       "      <th>homepage</th>\n",
       "      <th>imdb_id</th>\n",
       "      <th>original_language</th>\n",
       "      <th>original_title</th>\n",
       "      <th>overview</th>\n",
       "      <th>popularity</th>\n",
       "      <th>poster_path</th>\n",
       "      <th>production_companies</th>\n",
       "      <th>production_countries</th>\n",
       "      <th>release_date</th>\n",
       "      <th>runtime</th>\n",
       "      <th>spoken_languages</th>\n",
       "      <th>status</th>\n",
       "      <th>tagline</th>\n",
       "      <th>title</th>\n",
       "      <th>Keywords</th>\n",
       "      <th>cast</th>\n",
       "      <th>crew</th>\n",
       "      <th>revenue</th>\n",
       "    </tr>\n",
       "  </thead>\n",
       "  <tbody>\n",
       "    <tr>\n",
       "      <th>0</th>\n",
       "      <td>1</td>\n",
       "      <td>[{'id': 313576, 'name': 'Hot Tub Time Machine ...</td>\n",
       "      <td>14000000</td>\n",
       "      <td>[{'id': 35, 'name': 'Comedy'}]</td>\n",
       "      <td>NaN</td>\n",
       "      <td>tt2637294</td>\n",
       "      <td>en</td>\n",
       "      <td>Hot Tub Time Machine 2</td>\n",
       "      <td>When Lou, who has become the \"father of the In...</td>\n",
       "      <td>6.575393</td>\n",
       "      <td>/tQtWuwvMf0hCc2QR2tkolwl7c3c.jpg</td>\n",
       "      <td>[{'name': 'Paramount Pictures', 'id': 4}, {'na...</td>\n",
       "      <td>[{'iso_3166_1': 'US', 'name': 'United States o...</td>\n",
       "      <td>2/20/15</td>\n",
       "      <td>93.0</td>\n",
       "      <td>[{'iso_639_1': 'en', 'name': 'English'}]</td>\n",
       "      <td>Released</td>\n",
       "      <td>The Laws of Space and Time are About to be Vio...</td>\n",
       "      <td>Hot Tub Time Machine 2</td>\n",
       "      <td>[{'id': 4379, 'name': 'time travel'}, {'id': 9...</td>\n",
       "      <td>[{'cast_id': 4, 'character': 'Lou', 'credit_id...</td>\n",
       "      <td>[{'credit_id': '59ac067c92514107af02c8c8', 'de...</td>\n",
       "      <td>12314651</td>\n",
       "    </tr>\n",
       "    <tr>\n",
       "      <th>1</th>\n",
       "      <td>2</td>\n",
       "      <td>[{'id': 107674, 'name': 'The Princess Diaries ...</td>\n",
       "      <td>40000000</td>\n",
       "      <td>[{'id': 35, 'name': 'Comedy'}, {'id': 18, 'nam...</td>\n",
       "      <td>NaN</td>\n",
       "      <td>tt0368933</td>\n",
       "      <td>en</td>\n",
       "      <td>The Princess Diaries 2: Royal Engagement</td>\n",
       "      <td>Mia Thermopolis is now a college graduate and ...</td>\n",
       "      <td>8.248895</td>\n",
       "      <td>/w9Z7A0GHEhIp7etpj0vyKOeU1Wx.jpg</td>\n",
       "      <td>[{'name': 'Walt Disney Pictures', 'id': 2}]</td>\n",
       "      <td>[{'iso_3166_1': 'US', 'name': 'United States o...</td>\n",
       "      <td>8/6/04</td>\n",
       "      <td>113.0</td>\n",
       "      <td>[{'iso_639_1': 'en', 'name': 'English'}]</td>\n",
       "      <td>Released</td>\n",
       "      <td>It can take a lifetime to find true love; she'...</td>\n",
       "      <td>The Princess Diaries 2: Royal Engagement</td>\n",
       "      <td>[{'id': 2505, 'name': 'coronation'}, {'id': 42...</td>\n",
       "      <td>[{'cast_id': 1, 'character': 'Mia Thermopolis'...</td>\n",
       "      <td>[{'credit_id': '52fe43fe9251416c7502563d', 'de...</td>\n",
       "      <td>95149435</td>\n",
       "    </tr>\n",
       "    <tr>\n",
       "      <th>2</th>\n",
       "      <td>3</td>\n",
       "      <td>NaN</td>\n",
       "      <td>3300000</td>\n",
       "      <td>[{'id': 18, 'name': 'Drama'}]</td>\n",
       "      <td>http://sonyclassics.com/whiplash/</td>\n",
       "      <td>tt2582802</td>\n",
       "      <td>en</td>\n",
       "      <td>Whiplash</td>\n",
       "      <td>Under the direction of a ruthless instructor, ...</td>\n",
       "      <td>64.299990</td>\n",
       "      <td>/lIv1QinFqz4dlp5U4lQ6HaiskOZ.jpg</td>\n",
       "      <td>[{'name': 'Bold Films', 'id': 2266}, {'name': ...</td>\n",
       "      <td>[{'iso_3166_1': 'US', 'name': 'United States o...</td>\n",
       "      <td>10/10/14</td>\n",
       "      <td>105.0</td>\n",
       "      <td>[{'iso_639_1': 'en', 'name': 'English'}]</td>\n",
       "      <td>Released</td>\n",
       "      <td>The road to greatness can take you to the edge.</td>\n",
       "      <td>Whiplash</td>\n",
       "      <td>[{'id': 1416, 'name': 'jazz'}, {'id': 1523, 'n...</td>\n",
       "      <td>[{'cast_id': 5, 'character': 'Andrew Neimann',...</td>\n",
       "      <td>[{'credit_id': '54d5356ec3a3683ba0000039', 'de...</td>\n",
       "      <td>13092000</td>\n",
       "    </tr>\n",
       "    <tr>\n",
       "      <th>3</th>\n",
       "      <td>4</td>\n",
       "      <td>NaN</td>\n",
       "      <td>1200000</td>\n",
       "      <td>[{'id': 53, 'name': 'Thriller'}, {'id': 18, 'n...</td>\n",
       "      <td>http://kahaanithefilm.com/</td>\n",
       "      <td>tt1821480</td>\n",
       "      <td>hi</td>\n",
       "      <td>Kahaani</td>\n",
       "      <td>Vidya Bagchi (Vidya Balan) arrives in Kolkata ...</td>\n",
       "      <td>3.174936</td>\n",
       "      <td>/aTXRaPrWSinhcmCrcfJK17urp3F.jpg</td>\n",
       "      <td>NaN</td>\n",
       "      <td>[{'iso_3166_1': 'IN', 'name': 'India'}]</td>\n",
       "      <td>3/9/12</td>\n",
       "      <td>122.0</td>\n",
       "      <td>[{'iso_639_1': 'en', 'name': 'English'}, {'iso...</td>\n",
       "      <td>Released</td>\n",
       "      <td>NaN</td>\n",
       "      <td>Kahaani</td>\n",
       "      <td>[{'id': 10092, 'name': 'mystery'}, {'id': 1054...</td>\n",
       "      <td>[{'cast_id': 1, 'character': 'Vidya Bagchi', '...</td>\n",
       "      <td>[{'credit_id': '52fe48779251416c9108d6eb', 'de...</td>\n",
       "      <td>16000000</td>\n",
       "    </tr>\n",
       "    <tr>\n",
       "      <th>4</th>\n",
       "      <td>5</td>\n",
       "      <td>NaN</td>\n",
       "      <td>0</td>\n",
       "      <td>[{'id': 28, 'name': 'Action'}, {'id': 53, 'nam...</td>\n",
       "      <td>NaN</td>\n",
       "      <td>tt1380152</td>\n",
       "      <td>ko</td>\n",
       "      <td>마린보이</td>\n",
       "      <td>Marine Boy is the story of a former national s...</td>\n",
       "      <td>1.148070</td>\n",
       "      <td>/m22s7zvkVFDU9ir56PiiqIEWFdT.jpg</td>\n",
       "      <td>NaN</td>\n",
       "      <td>[{'iso_3166_1': 'KR', 'name': 'South Korea'}]</td>\n",
       "      <td>2/5/09</td>\n",
       "      <td>118.0</td>\n",
       "      <td>[{'iso_639_1': 'ko', 'name': '한국어/조선말'}]</td>\n",
       "      <td>Released</td>\n",
       "      <td>NaN</td>\n",
       "      <td>Marine Boy</td>\n",
       "      <td>NaN</td>\n",
       "      <td>[{'cast_id': 3, 'character': 'Chun-soo', 'cred...</td>\n",
       "      <td>[{'credit_id': '52fe464b9251416c75073b43', 'de...</td>\n",
       "      <td>3923970</td>\n",
       "    </tr>\n",
       "  </tbody>\n",
       "</table>\n",
       "</div>"
      ],
      "text/plain": [
       "   id                              belongs_to_collection    budget  \\\n",
       "0   1  [{'id': 313576, 'name': 'Hot Tub Time Machine ...  14000000   \n",
       "1   2  [{'id': 107674, 'name': 'The Princess Diaries ...  40000000   \n",
       "2   3                                                NaN   3300000   \n",
       "3   4                                                NaN   1200000   \n",
       "4   5                                                NaN         0   \n",
       "\n",
       "                                              genres  \\\n",
       "0                     [{'id': 35, 'name': 'Comedy'}]   \n",
       "1  [{'id': 35, 'name': 'Comedy'}, {'id': 18, 'nam...   \n",
       "2                      [{'id': 18, 'name': 'Drama'}]   \n",
       "3  [{'id': 53, 'name': 'Thriller'}, {'id': 18, 'n...   \n",
       "4  [{'id': 28, 'name': 'Action'}, {'id': 53, 'nam...   \n",
       "\n",
       "                            homepage    imdb_id original_language  \\\n",
       "0                                NaN  tt2637294                en   \n",
       "1                                NaN  tt0368933                en   \n",
       "2  http://sonyclassics.com/whiplash/  tt2582802                en   \n",
       "3         http://kahaanithefilm.com/  tt1821480                hi   \n",
       "4                                NaN  tt1380152                ko   \n",
       "\n",
       "                             original_title  \\\n",
       "0                    Hot Tub Time Machine 2   \n",
       "1  The Princess Diaries 2: Royal Engagement   \n",
       "2                                  Whiplash   \n",
       "3                                   Kahaani   \n",
       "4                                      마린보이   \n",
       "\n",
       "                                            overview  popularity  \\\n",
       "0  When Lou, who has become the \"father of the In...    6.575393   \n",
       "1  Mia Thermopolis is now a college graduate and ...    8.248895   \n",
       "2  Under the direction of a ruthless instructor, ...   64.299990   \n",
       "3  Vidya Bagchi (Vidya Balan) arrives in Kolkata ...    3.174936   \n",
       "4  Marine Boy is the story of a former national s...    1.148070   \n",
       "\n",
       "                        poster_path  \\\n",
       "0  /tQtWuwvMf0hCc2QR2tkolwl7c3c.jpg   \n",
       "1  /w9Z7A0GHEhIp7etpj0vyKOeU1Wx.jpg   \n",
       "2  /lIv1QinFqz4dlp5U4lQ6HaiskOZ.jpg   \n",
       "3  /aTXRaPrWSinhcmCrcfJK17urp3F.jpg   \n",
       "4  /m22s7zvkVFDU9ir56PiiqIEWFdT.jpg   \n",
       "\n",
       "                                production_companies  \\\n",
       "0  [{'name': 'Paramount Pictures', 'id': 4}, {'na...   \n",
       "1        [{'name': 'Walt Disney Pictures', 'id': 2}]   \n",
       "2  [{'name': 'Bold Films', 'id': 2266}, {'name': ...   \n",
       "3                                                NaN   \n",
       "4                                                NaN   \n",
       "\n",
       "                                production_countries release_date  runtime  \\\n",
       "0  [{'iso_3166_1': 'US', 'name': 'United States o...      2/20/15     93.0   \n",
       "1  [{'iso_3166_1': 'US', 'name': 'United States o...       8/6/04    113.0   \n",
       "2  [{'iso_3166_1': 'US', 'name': 'United States o...     10/10/14    105.0   \n",
       "3            [{'iso_3166_1': 'IN', 'name': 'India'}]       3/9/12    122.0   \n",
       "4      [{'iso_3166_1': 'KR', 'name': 'South Korea'}]       2/5/09    118.0   \n",
       "\n",
       "                                    spoken_languages    status  \\\n",
       "0           [{'iso_639_1': 'en', 'name': 'English'}]  Released   \n",
       "1           [{'iso_639_1': 'en', 'name': 'English'}]  Released   \n",
       "2           [{'iso_639_1': 'en', 'name': 'English'}]  Released   \n",
       "3  [{'iso_639_1': 'en', 'name': 'English'}, {'iso...  Released   \n",
       "4           [{'iso_639_1': 'ko', 'name': '한국어/조선말'}]  Released   \n",
       "\n",
       "                                             tagline  \\\n",
       "0  The Laws of Space and Time are About to be Vio...   \n",
       "1  It can take a lifetime to find true love; she'...   \n",
       "2    The road to greatness can take you to the edge.   \n",
       "3                                                NaN   \n",
       "4                                                NaN   \n",
       "\n",
       "                                      title  \\\n",
       "0                    Hot Tub Time Machine 2   \n",
       "1  The Princess Diaries 2: Royal Engagement   \n",
       "2                                  Whiplash   \n",
       "3                                   Kahaani   \n",
       "4                                Marine Boy   \n",
       "\n",
       "                                            Keywords  \\\n",
       "0  [{'id': 4379, 'name': 'time travel'}, {'id': 9...   \n",
       "1  [{'id': 2505, 'name': 'coronation'}, {'id': 42...   \n",
       "2  [{'id': 1416, 'name': 'jazz'}, {'id': 1523, 'n...   \n",
       "3  [{'id': 10092, 'name': 'mystery'}, {'id': 1054...   \n",
       "4                                                NaN   \n",
       "\n",
       "                                                cast  \\\n",
       "0  [{'cast_id': 4, 'character': 'Lou', 'credit_id...   \n",
       "1  [{'cast_id': 1, 'character': 'Mia Thermopolis'...   \n",
       "2  [{'cast_id': 5, 'character': 'Andrew Neimann',...   \n",
       "3  [{'cast_id': 1, 'character': 'Vidya Bagchi', '...   \n",
       "4  [{'cast_id': 3, 'character': 'Chun-soo', 'cred...   \n",
       "\n",
       "                                                crew   revenue  \n",
       "0  [{'credit_id': '59ac067c92514107af02c8c8', 'de...  12314651  \n",
       "1  [{'credit_id': '52fe43fe9251416c7502563d', 'de...  95149435  \n",
       "2  [{'credit_id': '54d5356ec3a3683ba0000039', 'de...  13092000  \n",
       "3  [{'credit_id': '52fe48779251416c9108d6eb', 'de...  16000000  \n",
       "4  [{'credit_id': '52fe464b9251416c75073b43', 'de...   3923970  "
      ]
     },
     "execution_count": 10,
     "metadata": {},
     "output_type": "execute_result"
    }
   ],
   "source": [
    "data.head(5)"
   ]
  },
  {
   "cell_type": "markdown",
   "metadata": {},
   "source": [
    "### Utility functions"
   ]
  },
  {
   "cell_type": "markdown",
   "metadata": {},
   "source": [
    "functions use to decode and plot column with multiple values, such as genres, cast, crew, ...\n",
    "and other functions"
   ]
  },
  {
   "cell_type": "code",
   "execution_count": 11,
   "metadata": {},
   "outputs": [],
   "source": [
    "def encode(obj, col, x):  \n",
    "    return obj in x[col]\n"
   ]
  },
  {
   "cell_type": "code",
   "execution_count": 12,
   "metadata": {},
   "outputs": [],
   "source": [
    "def encode_array(df, col, select, filt=None, min_entries=None, list_entries=None, prefix=''):\n",
    "    df[prefix + col + '_list'] = df[col].apply(lambda x: eval(x) if not pd.isnull(x) else [])\n",
    "    df[prefix + col + '_list'] = [[(prefix + str(select(obj))) for obj in objs if (filt == None or filt(obj))] for objs in df[prefix + col + '_list']]\n",
    "    obj_list = [item for sublist in list(df[prefix + col + '_list']) for item in sublist]\n",
    "    obj_list = list(dict.fromkeys(map(lambda x: (x, obj_list.count(x)), obj_list)))\n",
    "    \n",
    "    if min_entries and not list_entries:\n",
    "        obj_list = list(filter(lambda x: x[1] > min_entries, obj_list))\n",
    "    \n",
    "    if list_entries != None:\n",
    "        obj_dict = {x[0]: x[1] for x in obj_list}\n",
    "        obj_list = [(entry, obj_dict[entry] if entry in obj_dict else 0) for entry in list_entries]\n",
    "    \n",
    "    for obj in obj_list:\n",
    "        df[obj[0]] = df.apply(partial(encode, obj[0], prefix + col + '_list'), axis=1)\n",
    "    df['num_' + prefix + col] = df[prefix + col + '_list'].apply(lambda x: len(x))\n",
    "    \n",
    "    return obj_list\n",
    "    "
   ]
  },
  {
   "cell_type": "code",
   "execution_count": 13,
   "metadata": {},
   "outputs": [],
   "source": [
    "def scatterplot_columns(data, cols, y, title, rotate_xticks=False):\n",
    "    plt.figure(figsize=(20,12))\n",
    "    plt.title(title,fontsize=20)\n",
    "    loc, labels = plt.xticks()\n",
    "    plt.xticks(fontsize=12,rotation=90)\n",
    "    rows = pd.DataFrame()\n",
    "    for col in cols:\n",
    "        with_col = data[data[col]].copy()\n",
    "        with_col['col'] = col\n",
    "        rows = rows.append(with_col)\n",
    "\n",
    "    if rotate_xticks:\n",
    "        plt.xticks(fontsize=12,rotation=90)\n",
    "    sns.swarmplot(x='col', y=y, data=rows)    \n",
    "    plt.show()\n",
    "    \n"
   ]
  },
  {
   "cell_type": "code",
   "execution_count": 14,
   "metadata": {},
   "outputs": [],
   "source": [
    "def barplot_columns(data, cols, y, title, rotate_xticks=False):\n",
    "    plt.figure(figsize=(20,12))\n",
    "    plt.title(title,fontsize=20)\n",
    "    loc, labels = plt.xticks()\n",
    "    plt.xticks(fontsize=12,rotation=90)\n",
    "    rows = pd.DataFrame()\n",
    "    for col in cols:\n",
    "        with_col = data[data[col]].copy()\n",
    "        with_col['col'] = col\n",
    "        rows = rows.append(with_col)\n",
    "\n",
    "    if rotate_xticks:\n",
    "        plt.xticks(fontsize=12,rotation=90)\n",
    "    sns.barplot(x='col', y=y, data=rows)    \n",
    "    plt.show()"
   ]
  },
  {
   "cell_type": "code",
   "execution_count": 15,
   "metadata": {},
   "outputs": [],
   "source": [
    "def plot_multivalue_column(data, col, select, Y=None, filt=None, min_entries=None, list_entries=None, scatterplot=True, barplot=True, countplot=True, num_countplot=True, prefix=''):\n",
    "    res = encode_array(data, col, select, filt, min_entries, list_entries, prefix=prefix)\n",
    "    entries = [entry[0] for entry in res]\n",
    "    \n",
    "    if countplot:\n",
    "        plt.figure(figsize=(20,12))\n",
    "        sns.barplot(x=[entry[0] for entry in res], y=[entry[1] for entry in res])\n",
    "        plt.title(\"Movies by {}\".format(col),fontsize=20)\n",
    "        loc, labels = plt.xticks()\n",
    "        plt.xticks(fontsize=12,rotation=90)\n",
    "        plt.show()\n",
    "        \n",
    "    if scatterplot and Y != None:\n",
    "        scatterplot_columns(data, entries, Y, '{} by {}'.format(Y, col), True)\n",
    "\n",
    "    if barplot and Y != None:\n",
    "        barplot_columns(data, entries, Y, '{} by {}'.format(Y, col), True)\n",
    "\n",
    "        plt.figure(figsize=(20,12))\n",
    "        sns.barplot(x='num_{}'.format(col), y=Y, data=data)\n",
    "        plt.title(\"{} by num {}\".format(Y, col),fontsize=20)\n",
    "        loc, labels = plt.xticks()\n",
    "        plt.xticks(fontsize=12,rotation=90)\n",
    "        plt.show()\n",
    "    \n",
    "    if num_countplot:            \n",
    "        plt.figure(figsize=(20,12))\n",
    "        sns.countplot(x=('num_{}{}').format(prefix, \n",
    "                                             col), data=data)\n",
    "        plt.title(\"{} by num\".format(col),fontsize=20)\n",
    "        loc, labels = plt.xticks()\n",
    "        plt.xticks(fontsize=12,rotation=90)\n",
    "        plt.show()\n",
    "\n",
    "    \n",
    "    return entries\n",
    "    "
   ]
  },
  {
   "cell_type": "markdown",
   "metadata": {},
   "source": [
    "## Revenue"
   ]
  },
  {
   "cell_type": "code",
   "execution_count": 16,
   "metadata": {},
   "outputs": [
    {
     "data": {
      "text/plain": [
       "<matplotlib.axes._subplots.AxesSubplot at 0x154a345ff60>"
      ]
     },
     "execution_count": 16,
     "metadata": {},
     "output_type": "execute_result"
    },
    {
     "data": {
      "image/png": "[encoded data removed]",
      "text/plain": [
       "<Figure size 432x288 with 1 Axes>"
      ]
     },
     "metadata": {
      "needs_background": "light"
     },
     "output_type": "display_data"
    }
   ],
   "source": [
    "sns.distplot(data['revenue'])"
   ]
  },
  {
   "cell_type": "markdown",
   "metadata": {},
   "source": [
    "Very skewed distrubtion"
   ]
  },
  {
   "cell_type": "code",
   "execution_count": 17,
   "metadata": {},
   "outputs": [
    {
     "data": {
      "text/plain": [
       "<matplotlib.axes._subplots.AxesSubplot at 0x154a3788400>"
      ]
     },
     "execution_count": 17,
     "metadata": {},
     "output_type": "execute_result"
    },
    {
     "data": {
      "image/png": "[encoded data removed]",
      "text/plain": [
       "<Figure size 432x288 with 1 Axes>"
      ]
     },
     "metadata": {
      "needs_background": "light"
     },
     "output_type": "display_data"
    }
   ],
   "source": [
    "sns.distplot(data['revenue'].apply(np.log1p))"
   ]
  },
  {
   "cell_type": "markdown",
   "metadata": {},
   "source": [
    "Better distrubution which isnt as skewed\n",
    "\n",
    "A non skewed modell will make it easier for the models to predict correctly"
   ]
  },
  {
   "cell_type": "markdown",
   "metadata": {},
   "source": [
    "## Saving attributes we want to use"
   ]
  },
  {
   "cell_type": "code",
   "execution_count": 18,
   "metadata": {},
   "outputs": [],
   "source": [
    "attributes = []"
   ]
  },
  {
   "cell_type": "markdown",
   "metadata": {},
   "source": [
    "## Title vs original title"
   ]
  },
  {
   "cell_type": "code",
   "execution_count": 19,
   "metadata": {},
   "outputs": [],
   "source": [
    "data['title_same'] = data['original_title'] == data['title']"
   ]
  },
  {
   "cell_type": "code",
   "execution_count": 20,
   "metadata": {},
   "outputs": [],
   "source": [
    "test['title_same'] = test['original_title'] == test['title']"
   ]
  },
  {
   "cell_type": "code",
   "execution_count": 21,
   "metadata": {},
   "outputs": [
    {
     "data": {
      "image/png": "[encoded data removed]",
      "text/plain": [
       "<Figure size 1440x864 with 1 Axes>"
      ]
     },
     "metadata": {
      "needs_background": "light"
     },
     "output_type": "display_data"
    },
    {
     "data": {
      "image/png": "[encoded data removed]",
      "text/plain": [
       "<Figure size 1440x864 with 1 Axes>"
      ]
     },
     "metadata": {
      "needs_background": "light"
     },
     "output_type": "display_data"
    }
   ],
   "source": [
    "plt.figure(figsize=(20,12))\n",
    "sns.countplot(x=('title_same'), data=data)\n",
    "plt.title(\"Same title train data\",fontsize=20)\n",
    "plt.show()\n",
    "plt.figure(figsize=(20,12))\n",
    "sns.countplot(x=('title_same'), data=test)\n",
    "plt.title(\"Same title test data\",fontsize=20)\n",
    "plt.show()"
   ]
  },
  {
   "cell_type": "code",
   "execution_count": 22,
   "metadata": {},
   "outputs": [
    {
     "data": {
      "image/png": "[encoded data removed]",
      "text/plain": [
       "<Figure size 1440x864 with 1 Axes>"
      ]
     },
     "metadata": {
      "needs_background": "light"
     },
     "output_type": "display_data"
    }
   ],
   "source": [
    "plt.figure(figsize=(20,12))\n",
    "sns.barplot(x='title_same', y='revenue', data=data)\n",
    "plt.title(\"title_same by revenue\",fontsize=20)\n",
    "plt.show()"
   ]
  },
  {
   "cell_type": "code",
   "execution_count": 23,
   "metadata": {},
   "outputs": [],
   "source": [
    "attributes.append('title_same')"
   ]
  },
  {
   "cell_type": "markdown",
   "metadata": {},
   "source": [
    "## Homepage"
   ]
  },
  {
   "cell_type": "code",
   "execution_count": 24,
   "metadata": {},
   "outputs": [],
   "source": [
    "data['has_homepage'] = data['homepage'].notnull()"
   ]
  },
  {
   "cell_type": "code",
   "execution_count": 25,
   "metadata": {},
   "outputs": [],
   "source": [
    "test['has_homepage'] = test['homepage'].notnull()"
   ]
  },
  {
   "cell_type": "code",
   "execution_count": 26,
   "metadata": {},
   "outputs": [
    {
     "data": {
      "image/png": "[encoded data removed]",
      "text/plain": [
       "<Figure size 1440x864 with 1 Axes>"
      ]
     },
     "metadata": {
      "needs_background": "light"
     },
     "output_type": "display_data"
    },
    {
     "data": {
      "image/png": "[encoded data removed]",
      "text/plain": [
       "<Figure size 1440x864 with 1 Axes>"
      ]
     },
     "metadata": {
      "needs_background": "light"
     },
     "output_type": "display_data"
    }
   ],
   "source": [
    "plt.figure(figsize=(20,12))\n",
    "sns.countplot(x=('has_homepage'), data=data)\n",
    "plt.title(\"has_homepage train data\",fontsize=20)\n",
    "plt.show()\n",
    "plt.figure(figsize=(20,12))\n",
    "sns.countplot(x=('has_homepage'), data=test)\n",
    "plt.title(\"has_homepage test data\",fontsize=20)\n",
    "plt.show()"
   ]
  },
  {
   "cell_type": "code",
   "execution_count": 27,
   "metadata": {},
   "outputs": [
    {
     "data": {
      "image/png": "[encoded data removed]",
      "text/plain": [
       "<Figure size 1440x864 with 1 Axes>"
      ]
     },
     "metadata": {
      "needs_background": "light"
     },
     "output_type": "display_data"
    }
   ],
   "source": [
    "plt.figure(figsize=(20,12))\n",
    "sns.barplot(x='has_homepage', y='revenue', data=data)\n",
    "plt.title(\"has_homepage by revenue\",fontsize=20)\n",
    "plt.show()"
   ]
  },
  {
   "cell_type": "code",
   "execution_count": 28,
   "metadata": {},
   "outputs": [],
   "source": [
    "attributes.append('has_homepage')"
   ]
  },
  {
   "cell_type": "markdown",
   "metadata": {},
   "source": [
    "## Collection"
   ]
  },
  {
   "cell_type": "code",
   "execution_count": 29,
   "metadata": {},
   "outputs": [],
   "source": [
    "data['is_collection'] = data['belongs_to_collection'].notnull()"
   ]
  },
  {
   "cell_type": "code",
   "execution_count": 30,
   "metadata": {},
   "outputs": [],
   "source": [
    "test['is_collection'] = test['belongs_to_collection'].notnull()"
   ]
  },
  {
   "cell_type": "code",
   "execution_count": 31,
   "metadata": {},
   "outputs": [
    {
     "data": {
      "image/png": "[encoded data removed]",
      "text/plain": [
       "<Figure size 1440x864 with 1 Axes>"
      ]
     },
     "metadata": {
      "needs_background": "light"
     },
     "output_type": "display_data"
    },
    {
     "data": {
      "image/png": "[encoded data removed]",
      "text/plain": [
       "<Figure size 1440x864 with 1 Axes>"
      ]
     },
     "metadata": {
      "needs_background": "light"
     },
     "output_type": "display_data"
    }
   ],
   "source": [
    "plt.figure(figsize=(20,12))\n",
    "sns.countplot(x=('is_collection'), data=data)\n",
    "plt.title(\"is_collection train data\",fontsize=20)\n",
    "plt.show()\n",
    "plt.figure(figsize=(20,12))\n",
    "sns.countplot(x=('is_collection'), data=test)\n",
    "plt.title(\"is_collection test data\",fontsize=20)\n",
    "plt.show()"
   ]
  },
  {
   "cell_type": "code",
   "execution_count": 32,
   "metadata": {},
   "outputs": [
    {
     "data": {
      "image/png": "[encoded data removed]",
      "text/plain": [
       "<Figure size 1440x864 with 1 Axes>"
      ]
     },
     "metadata": {
      "needs_background": "light"
     },
     "output_type": "display_data"
    }
   ],
   "source": [
    "plt.figure(figsize=(20,12))\n",
    "sns.barplot(x='is_collection', y='revenue', data=data)\n",
    "plt.title(\"is_collection by revenue\",fontsize=20)\n",
    "plt.show()"
   ]
  },
  {
   "cell_type": "code",
   "execution_count": 33,
   "metadata": {},
   "outputs": [],
   "source": [
    "attributes.append('is_collection')"
   ]
  },
  {
   "cell_type": "markdown",
   "metadata": {},
   "source": [
    "## Runtime"
   ]
  },
  {
   "cell_type": "code",
   "execution_count": 34,
   "metadata": {},
   "outputs": [
    {
     "data": {
      "text/html": [
       "<div>\n",
       "<style scoped>\n",
       "    .dataframe tbody tr th:only-of-type {\n",
       "        vertical-align: middle;\n",
       "    }\n",
       "\n",
       "    .dataframe tbody tr th {\n",
       "        vertical-align: top;\n",
       "    }\n",
       "\n",
       "    .dataframe thead th {\n",
       "        text-align: right;\n",
       "    }\n",
       "</style>\n",
       "<table border=\"1\" class=\"dataframe\">\n",
       "  <thead>\n",
       "    <tr style=\"text-align: right;\">\n",
       "      <th></th>\n",
       "      <th>id</th>\n",
       "      <th>belongs_to_collection</th>\n",
       "      <th>budget</th>\n",
       "      <th>genres</th>\n",
       "      <th>homepage</th>\n",
       "      <th>imdb_id</th>\n",
       "      <th>original_language</th>\n",
       "      <th>original_title</th>\n",
       "      <th>overview</th>\n",
       "      <th>popularity</th>\n",
       "      <th>poster_path</th>\n",
       "      <th>production_companies</th>\n",
       "      <th>production_countries</th>\n",
       "      <th>release_date</th>\n",
       "      <th>runtime</th>\n",
       "      <th>spoken_languages</th>\n",
       "      <th>status</th>\n",
       "      <th>tagline</th>\n",
       "      <th>title</th>\n",
       "      <th>Keywords</th>\n",
       "      <th>cast</th>\n",
       "      <th>crew</th>\n",
       "      <th>revenue</th>\n",
       "      <th>title_same</th>\n",
       "      <th>has_homepage</th>\n",
       "      <th>is_collection</th>\n",
       "    </tr>\n",
       "  </thead>\n",
       "  <tbody>\n",
       "    <tr>\n",
       "      <th>1335</th>\n",
       "      <td>1336</td>\n",
       "      <td>NaN</td>\n",
       "      <td>6000000</td>\n",
       "      <td>[{'id': 18, 'name': 'Drama'}]</td>\n",
       "      <td>NaN</td>\n",
       "      <td>tt1107828</td>\n",
       "      <td>ru</td>\n",
       "      <td>Королёв</td>\n",
       "      <td>NaN</td>\n",
       "      <td>0.292296</td>\n",
       "      <td>/2XcRiIvliLUUGqv5qOvpc76WeCU.jpg</td>\n",
       "      <td>NaN</td>\n",
       "      <td>NaN</td>\n",
       "      <td>10/29/07</td>\n",
       "      <td>NaN</td>\n",
       "      <td>NaN</td>\n",
       "      <td>Released</td>\n",
       "      <td>NaN</td>\n",
       "      <td>Королёв</td>\n",
       "      <td>NaN</td>\n",
       "      <td>[{'cast_id': 3, 'character': '–°–µ—Ä–≥–µ–π –ö–...</td>\n",
       "      <td>[{'credit_id': '52fe4db29251416c7513d819', 'de...</td>\n",
       "      <td>31000</td>\n",
       "      <td>True</td>\n",
       "      <td>False</td>\n",
       "      <td>False</td>\n",
       "    </tr>\n",
       "    <tr>\n",
       "      <th>2302</th>\n",
       "      <td>2303</td>\n",
       "      <td>NaN</td>\n",
       "      <td>0</td>\n",
       "      <td>[{'id': 35, 'name': 'Comedy'}]</td>\n",
       "      <td>NaN</td>\n",
       "      <td>tt0116485</td>\n",
       "      <td>de</td>\n",
       "      <td>Happy Weekend</td>\n",
       "      <td>NaN</td>\n",
       "      <td>0.002229</td>\n",
       "      <td>NaN</td>\n",
       "      <td>[{'name': 'Senator Film Produktion', 'id': 191}]</td>\n",
       "      <td>[{'iso_3166_1': 'DE', 'name': 'Germany'}]</td>\n",
       "      <td>3/14/96</td>\n",
       "      <td>NaN</td>\n",
       "      <td>[{'iso_639_1': 'de', 'name': 'Deutsch'}]</td>\n",
       "      <td>Released</td>\n",
       "      <td>NaN</td>\n",
       "      <td>Happy Weekend</td>\n",
       "      <td>[{'id': 572, 'name': 'sex'}, {'id': 596, 'name...</td>\n",
       "      <td>[{'cast_id': 0, 'character': 'Joachim Krippo',...</td>\n",
       "      <td>NaN</td>\n",
       "      <td>65335</td>\n",
       "      <td>True</td>\n",
       "      <td>False</td>\n",
       "      <td>False</td>\n",
       "    </tr>\n",
       "  </tbody>\n",
       "</table>\n",
       "</div>"
      ],
      "text/plain": [
       "        id belongs_to_collection   budget                          genres  \\\n",
       "1335  1336                   NaN  6000000   [{'id': 18, 'name': 'Drama'}]   \n",
       "2302  2303                   NaN        0  [{'id': 35, 'name': 'Comedy'}]   \n",
       "\n",
       "     homepage    imdb_id original_language original_title overview  \\\n",
       "1335      NaN  tt1107828                ru        Королёв      NaN   \n",
       "2302      NaN  tt0116485                de  Happy Weekend      NaN   \n",
       "\n",
       "      popularity                       poster_path  \\\n",
       "1335    0.292296  /2XcRiIvliLUUGqv5qOvpc76WeCU.jpg   \n",
       "2302    0.002229                               NaN   \n",
       "\n",
       "                                  production_companies  \\\n",
       "1335                                               NaN   \n",
       "2302  [{'name': 'Senator Film Produktion', 'id': 191}]   \n",
       "\n",
       "                           production_countries release_date  runtime  \\\n",
       "1335                                        NaN     10/29/07      NaN   \n",
       "2302  [{'iso_3166_1': 'DE', 'name': 'Germany'}]      3/14/96      NaN   \n",
       "\n",
       "                              spoken_languages    status tagline  \\\n",
       "1335                                       NaN  Released     NaN   \n",
       "2302  [{'iso_639_1': 'de', 'name': 'Deutsch'}]  Released     NaN   \n",
       "\n",
       "              title                                           Keywords  \\\n",
       "1335        Королёв                                                NaN   \n",
       "2302  Happy Weekend  [{'id': 572, 'name': 'sex'}, {'id': 596, 'name...   \n",
       "\n",
       "                                                   cast  \\\n",
       "1335  [{'cast_id': 3, 'character': '–°–µ—Ä–≥–µ–π –ö–...   \n",
       "2302  [{'cast_id': 0, 'character': 'Joachim Krippo',...   \n",
       "\n",
       "                                                   crew  revenue  title_same  \\\n",
       "1335  [{'credit_id': '52fe4db29251416c7513d819', 'de...    31000        True   \n",
       "2302                                                NaN    65335        True   \n",
       "\n",
       "      has_homepage  is_collection  \n",
       "1335         False          False  \n",
       "2302         False          False  "
      ]
     },
     "execution_count": 34,
     "metadata": {},
     "output_type": "execute_result"
    }
   ],
   "source": [
    "data[data['runtime'].isnull()]"
   ]
  },
  {
   "cell_type": "code",
   "execution_count": 35,
   "metadata": {},
   "outputs": [
    {
     "data": {
      "text/html": [
       "<div>\n",
       "<style scoped>\n",
       "    .dataframe tbody tr th:only-of-type {\n",
       "        vertical-align: middle;\n",
       "    }\n",
       "\n",
       "    .dataframe tbody tr th {\n",
       "        vertical-align: top;\n",
       "    }\n",
       "\n",
       "    .dataframe thead th {\n",
       "        text-align: right;\n",
       "    }\n",
       "</style>\n",
       "<table border=\"1\" class=\"dataframe\">\n",
       "  <thead>\n",
       "    <tr style=\"text-align: right;\">\n",
       "      <th></th>\n",
       "      <th>id</th>\n",
       "      <th>belongs_to_collection</th>\n",
       "      <th>budget</th>\n",
       "      <th>genres</th>\n",
       "      <th>homepage</th>\n",
       "      <th>imdb_id</th>\n",
       "      <th>original_language</th>\n",
       "      <th>original_title</th>\n",
       "      <th>overview</th>\n",
       "      <th>popularity</th>\n",
       "      <th>poster_path</th>\n",
       "      <th>production_companies</th>\n",
       "      <th>production_countries</th>\n",
       "      <th>release_date</th>\n",
       "      <th>runtime</th>\n",
       "      <th>spoken_languages</th>\n",
       "      <th>status</th>\n",
       "      <th>tagline</th>\n",
       "      <th>title</th>\n",
       "      <th>Keywords</th>\n",
       "      <th>cast</th>\n",
       "      <th>crew</th>\n",
       "      <th>title_same</th>\n",
       "      <th>has_homepage</th>\n",
       "      <th>is_collection</th>\n",
       "    </tr>\n",
       "  </thead>\n",
       "  <tbody>\n",
       "    <tr>\n",
       "      <th>243</th>\n",
       "      <td>3244</td>\n",
       "      <td>NaN</td>\n",
       "      <td>0</td>\n",
       "      <td>[{'id': 35, 'name': 'Comedy'}]</td>\n",
       "      <td>NaN</td>\n",
       "      <td>tt0082131</td>\n",
       "      <td>es</td>\n",
       "      <td>La caliente niña Julietta</td>\n",
       "      <td>NaN</td>\n",
       "      <td>0.000464</td>\n",
       "      <td>/6ANZPgGGzplpAUuqx97nmAtmgEH.jpg</td>\n",
       "      <td>[{'name': 'IFI Producción S.A.', 'id': 16675}]</td>\n",
       "      <td>[{'iso_3166_1': 'ES', 'name': 'Spain'}]</td>\n",
       "      <td>3/20/81</td>\n",
       "      <td>NaN</td>\n",
       "      <td>[{'iso_639_1': 'es', 'name': 'Español'}]</td>\n",
       "      <td>Released</td>\n",
       "      <td>NaN</td>\n",
       "      <td>La caliente niña Julietta</td>\n",
       "      <td>[{'id': 293, 'name': 'female nudity'}, {'id': ...</td>\n",
       "      <td>[{'cast_id': 7, 'character': 'Julietta Santigo...</td>\n",
       "      <td>[{'credit_id': '55678cf992514156b600069f', 'de...</td>\n",
       "      <td>True</td>\n",
       "      <td>False</td>\n",
       "      <td>False</td>\n",
       "    </tr>\n",
       "    <tr>\n",
       "      <th>1489</th>\n",
       "      <td>4490</td>\n",
       "      <td>NaN</td>\n",
       "      <td>0</td>\n",
       "      <td>[{'id': 35, 'name': 'Comedy'}]</td>\n",
       "      <td>NaN</td>\n",
       "      <td>tt3132094</td>\n",
       "      <td>es</td>\n",
       "      <td>Pancho, el perro millonario</td>\n",
       "      <td>NaN</td>\n",
       "      <td>0.661399</td>\n",
       "      <td>/h1n1RXda54WmuFmrcPU7iXZN0ta.jpg</td>\n",
       "      <td>[{'name': 'Atresmedia Cine', 'id': 29566}, {'n...</td>\n",
       "      <td>[{'iso_3166_1': 'ES', 'name': 'Spain'}]</td>\n",
       "      <td>6/6/14</td>\n",
       "      <td>NaN</td>\n",
       "      <td>[{'iso_639_1': 'es', 'name': 'Español'}]</td>\n",
       "      <td>Released</td>\n",
       "      <td>NaN</td>\n",
       "      <td>Pancho, el perro millonario</td>\n",
       "      <td>[{'id': 11493, 'name': 'animal as human'}, {'i...</td>\n",
       "      <td>[{'cast_id': 3, 'character': 'Alberto', 'credi...</td>\n",
       "      <td>[{'credit_id': '52fe4e1c9251416c91126d43', 'de...</td>\n",
       "      <td>True</td>\n",
       "      <td>False</td>\n",
       "      <td>False</td>\n",
       "    </tr>\n",
       "    <tr>\n",
       "      <th>1632</th>\n",
       "      <td>4633</td>\n",
       "      <td>NaN</td>\n",
       "      <td>0</td>\n",
       "      <td>[{'id': 35, 'name': 'Comedy'}]</td>\n",
       "      <td>NaN</td>\n",
       "      <td>tt0078010</td>\n",
       "      <td>es</td>\n",
       "      <td>Nunca en horas de clase</td>\n",
       "      <td>NaN</td>\n",
       "      <td>0.281500</td>\n",
       "      <td>/wVDY6zJV5GCkZF07CMYE8s37Rx7.jpg</td>\n",
       "      <td>[{'name': 'Films Zodíaco', 'id': 36421}]</td>\n",
       "      <td>[{'iso_3166_1': 'ES', 'name': 'Spain'}]</td>\n",
       "      <td>11/3/78</td>\n",
       "      <td>NaN</td>\n",
       "      <td>[{'iso_639_1': 'es', 'name': 'Español'}]</td>\n",
       "      <td>Released</td>\n",
       "      <td>NaN</td>\n",
       "      <td>Nunca en horas de clase</td>\n",
       "      <td>[{'id': 107, 'name': 'barcelona spain'}, {'id'...</td>\n",
       "      <td>[{'cast_id': 6, 'character': 'Susy', 'credit_i...</td>\n",
       "      <td>[{'credit_id': '544d2dd20e0a2608c2002879', 'de...</td>\n",
       "      <td>True</td>\n",
       "      <td>False</td>\n",
       "      <td>False</td>\n",
       "    </tr>\n",
       "    <tr>\n",
       "      <th>3817</th>\n",
       "      <td>6818</td>\n",
       "      <td>NaN</td>\n",
       "      <td>0</td>\n",
       "      <td>NaN</td>\n",
       "      <td>NaN</td>\n",
       "      <td>tt2192844</td>\n",
       "      <td>fi</td>\n",
       "      <td>Miesten välisiä keskusteluja</td>\n",
       "      <td>NaN</td>\n",
       "      <td>0.011427</td>\n",
       "      <td>/iGykvX2LgYFz9EKAjqGoni9xmCf.jpg</td>\n",
       "      <td>[{'name': 'Vegetarian Films', 'id': 80999}]</td>\n",
       "      <td>[{'iso_3166_1': 'FI', 'name': 'Finland'}]</td>\n",
       "      <td>1/4/13</td>\n",
       "      <td>NaN</td>\n",
       "      <td>[{'iso_639_1': 'fi', 'name': 'suomi'}]</td>\n",
       "      <td>Released</td>\n",
       "      <td>NaN</td>\n",
       "      <td>Miesten välisiä keskusteluja</td>\n",
       "      <td>NaN</td>\n",
       "      <td>[{'cast_id': 0, 'character': 'Kari Mairisaari'...</td>\n",
       "      <td>[{'credit_id': '57cad03a9251411ac50030a1', 'de...</td>\n",
       "      <td>True</td>\n",
       "      <td>False</td>\n",
       "      <td>False</td>\n",
       "    </tr>\n",
       "  </tbody>\n",
       "</table>\n",
       "</div>"
      ],
      "text/plain": [
       "        id belongs_to_collection  budget                          genres  \\\n",
       "243   3244                   NaN       0  [{'id': 35, 'name': 'Comedy'}]   \n",
       "1489  4490                   NaN       0  [{'id': 35, 'name': 'Comedy'}]   \n",
       "1632  4633                   NaN       0  [{'id': 35, 'name': 'Comedy'}]   \n",
       "3817  6818                   NaN       0                             NaN   \n",
       "\n",
       "     homepage    imdb_id original_language                original_title  \\\n",
       "243       NaN  tt0082131                es     La caliente niña Julietta   \n",
       "1489      NaN  tt3132094                es   Pancho, el perro millonario   \n",
       "1632      NaN  tt0078010                es       Nunca en horas de clase   \n",
       "3817      NaN  tt2192844                fi  Miesten välisiä keskusteluja   \n",
       "\n",
       "     overview  popularity                       poster_path  \\\n",
       "243       NaN    0.000464  /6ANZPgGGzplpAUuqx97nmAtmgEH.jpg   \n",
       "1489      NaN    0.661399  /h1n1RXda54WmuFmrcPU7iXZN0ta.jpg   \n",
       "1632      NaN    0.281500  /wVDY6zJV5GCkZF07CMYE8s37Rx7.jpg   \n",
       "3817      NaN    0.011427  /iGykvX2LgYFz9EKAjqGoni9xmCf.jpg   \n",
       "\n",
       "                                   production_companies  \\\n",
       "243      [{'name': 'IFI Producción S.A.', 'id': 16675}]   \n",
       "1489  [{'name': 'Atresmedia Cine', 'id': 29566}, {'n...   \n",
       "1632           [{'name': 'Films Zodíaco', 'id': 36421}]   \n",
       "3817        [{'name': 'Vegetarian Films', 'id': 80999}]   \n",
       "\n",
       "                           production_countries release_date  runtime  \\\n",
       "243     [{'iso_3166_1': 'ES', 'name': 'Spain'}]      3/20/81      NaN   \n",
       "1489    [{'iso_3166_1': 'ES', 'name': 'Spain'}]       6/6/14      NaN   \n",
       "1632    [{'iso_3166_1': 'ES', 'name': 'Spain'}]      11/3/78      NaN   \n",
       "3817  [{'iso_3166_1': 'FI', 'name': 'Finland'}]       1/4/13      NaN   \n",
       "\n",
       "                              spoken_languages    status tagline  \\\n",
       "243   [{'iso_639_1': 'es', 'name': 'Español'}]  Released     NaN   \n",
       "1489  [{'iso_639_1': 'es', 'name': 'Español'}]  Released     NaN   \n",
       "1632  [{'iso_639_1': 'es', 'name': 'Español'}]  Released     NaN   \n",
       "3817    [{'iso_639_1': 'fi', 'name': 'suomi'}]  Released     NaN   \n",
       "\n",
       "                             title  \\\n",
       "243      La caliente niña Julietta   \n",
       "1489   Pancho, el perro millonario   \n",
       "1632       Nunca en horas de clase   \n",
       "3817  Miesten välisiä keskusteluja   \n",
       "\n",
       "                                               Keywords  \\\n",
       "243   [{'id': 293, 'name': 'female nudity'}, {'id': ...   \n",
       "1489  [{'id': 11493, 'name': 'animal as human'}, {'i...   \n",
       "1632  [{'id': 107, 'name': 'barcelona spain'}, {'id'...   \n",
       "3817                                                NaN   \n",
       "\n",
       "                                                   cast  \\\n",
       "243   [{'cast_id': 7, 'character': 'Julietta Santigo...   \n",
       "1489  [{'cast_id': 3, 'character': 'Alberto', 'credi...   \n",
       "1632  [{'cast_id': 6, 'character': 'Susy', 'credit_i...   \n",
       "3817  [{'cast_id': 0, 'character': 'Kari Mairisaari'...   \n",
       "\n",
       "                                                   crew  title_same  \\\n",
       "243   [{'credit_id': '55678cf992514156b600069f', 'de...        True   \n",
       "1489  [{'credit_id': '52fe4e1c9251416c91126d43', 'de...        True   \n",
       "1632  [{'credit_id': '544d2dd20e0a2608c2002879', 'de...        True   \n",
       "3817  [{'credit_id': '57cad03a9251411ac50030a1', 'de...        True   \n",
       "\n",
       "      has_homepage  is_collection  \n",
       "243          False          False  \n",
       "1489         False          False  \n",
       "1632         False          False  \n",
       "3817         False          False  "
      ]
     },
     "execution_count": 35,
     "metadata": {},
     "output_type": "execute_result"
    }
   ],
   "source": [
    "test[test['runtime'].isnull()]"
   ]
  },
  {
   "cell_type": "code",
   "execution_count": 36,
   "metadata": {},
   "outputs": [],
   "source": [
    "median = data['runtime'].append(test['runtime']).median()"
   ]
  },
  {
   "cell_type": "code",
   "execution_count": 37,
   "metadata": {},
   "outputs": [],
   "source": [
    "data.loc[data['runtime'].isnull(), 'runtime'] = median"
   ]
  },
  {
   "cell_type": "code",
   "execution_count": 38,
   "metadata": {},
   "outputs": [],
   "source": [
    "test.loc[test['runtime'].isnull(), 'runtime'] = median"
   ]
  },
  {
   "cell_type": "code",
   "execution_count": 39,
   "metadata": {
    "scrolled": false
   },
   "outputs": [
    {
     "data": {
      "image/png": "[encoded data removed]",
      "text/plain": [
       "<Figure size 1440x864 with 1 Axes>"
      ]
     },
     "metadata": {
      "needs_background": "light"
     },
     "output_type": "display_data"
    }
   ],
   "source": [
    "plt.figure(figsize=(20,12))\n",
    "sns.scatterplot(x='runtime', y='revenue', data=data)\n",
    "plt.title(\"runtime by revenue\",fontsize=20)\n",
    "plt.show()"
   ]
  },
  {
   "cell_type": "code",
   "execution_count": 40,
   "metadata": {},
   "outputs": [],
   "source": [
    "attributes.append('runtime')"
   ]
  },
  {
   "cell_type": "markdown",
   "metadata": {},
   "source": [
    "## Keywords"
   ]
  },
  {
   "cell_type": "code",
   "execution_count": 41,
   "metadata": {},
   "outputs": [
    {
     "data": {
      "text/plain": [
       "0    [{'id': 4379, 'name': 'time travel'}, {'id': 9...\n",
       "1    [{'id': 2505, 'name': 'coronation'}, {'id': 42...\n",
       "2    [{'id': 1416, 'name': 'jazz'}, {'id': 1523, 'n...\n",
       "3    [{'id': 10092, 'name': 'mystery'}, {'id': 1054...\n",
       "4                                                  NaN\n",
       "Name: Keywords, dtype: object"
      ]
     },
     "execution_count": 41,
     "metadata": {},
     "output_type": "execute_result"
    }
   ],
   "source": [
    "data.head(5)['Keywords']"
   ]
  },
  {
   "cell_type": "code",
   "execution_count": 42,
   "metadata": {},
   "outputs": [
    {
     "data": {
      "image/png": "[encoded data removed]",
      "text/plain": [
       "<Figure size 1440x864 with 1 Axes>"
      ]
     },
     "metadata": {
      "needs_background": "light"
     },
     "output_type": "display_data"
    },
    {
     "data": {
      "image/png": "[encoded data removed]",
      "text/plain": [
       "<Figure size 1440x864 with 1 Axes>"
      ]
     },
     "metadata": {
      "needs_background": "light"
     },
     "output_type": "display_data"
    },
    {
     "data": {
      "image/png": "[encoded data removed]",
      "text/plain": [
       "<Figure size 1440x864 with 1 Axes>"
      ]
     },
     "metadata": {
      "needs_background": "light"
     },
     "output_type": "display_data"
    },
    {
     "data": {
      "image/png": "[encoded data removed]",
      "text/plain": [
       "<Figure size 1440x864 with 1 Axes>"
      ]
     },
     "metadata": {
      "needs_background": "light"
     },
     "output_type": "display_data"
    }
   ],
   "source": [
    "keyword_res = plot_multivalue_column(data, 'Keywords', Y='revenue', select=lambda x: x['name'], scatterplot=False, min_entries=50)"
   ]
  },
  {
   "cell_type": "code",
   "execution_count": 43,
   "metadata": {},
   "outputs": [
    {
     "data": {
      "image/png": "[encoded data removed]",
      "text/plain": [
       "<Figure size 1440x864 with 1 Axes>"
      ]
     },
     "metadata": {
      "needs_background": "light"
     },
     "output_type": "display_data"
    },
    {
     "data": {
      "image/png": "[encoded data removed]",
      "text/plain": [
       "<Figure size 1440x864 with 1 Axes>"
      ]
     },
     "metadata": {
      "needs_background": "light"
     },
     "output_type": "display_data"
    }
   ],
   "source": [
    "keyword_test_res = plot_multivalue_column(test, 'Keywords', select=lambda x: x['name'], scatterplot=False, list_entries=keyword_res)"
   ]
  },
  {
   "cell_type": "code",
   "execution_count": 44,
   "metadata": {},
   "outputs": [],
   "source": [
    "attributes.extend(keyword_res)"
   ]
  },
  {
   "cell_type": "code",
   "execution_count": 45,
   "metadata": {},
   "outputs": [],
   "source": [
    "attributes.append('num_Keywords')"
   ]
  },
  {
   "cell_type": "markdown",
   "metadata": {},
   "source": [
    "## Release data"
   ]
  },
  {
   "cell_type": "code",
   "execution_count": 46,
   "metadata": {
    "scrolled": true
   },
   "outputs": [
    {
     "data": {
      "text/plain": [
       "0     2/20/15\n",
       "1      8/6/04\n",
       "2    10/10/14\n",
       "3      3/9/12\n",
       "4      2/5/09\n",
       "Name: release_date, dtype: object"
      ]
     },
     "execution_count": 46,
     "metadata": {},
     "output_type": "execute_result"
    }
   ],
   "source": [
    "data['release_date'].head()"
   ]
  },
  {
   "cell_type": "code",
   "execution_count": 47,
   "metadata": {},
   "outputs": [],
   "source": [
    "releaseDate = pd.to_datetime(data['release_date'])"
   ]
  },
  {
   "cell_type": "code",
   "execution_count": 48,
   "metadata": {},
   "outputs": [],
   "source": [
    "releaseDateTest = pd.to_datetime(test['release_date'])"
   ]
  },
  {
   "cell_type": "code",
   "execution_count": 49,
   "metadata": {},
   "outputs": [],
   "source": [
    "data['release_year'] = releaseDate.dt.year"
   ]
  },
  {
   "cell_type": "code",
   "execution_count": 50,
   "metadata": {},
   "outputs": [
    {
     "data": {
      "image/png": "[encoded data removed]",
      "text/plain": [
       "<Figure size 1440x864 with 1 Axes>"
      ]
     },
     "metadata": {
      "needs_background": "light"
     },
     "output_type": "display_data"
    }
   ],
   "source": [
    "plt.figure(figsize=(20,12))\n",
    "sns.countplot(data['release_year'].sort_values())\n",
    "plt.title(\"Movie Release count by Year\",fontsize=20)\n",
    "loc, labels = plt.xticks()\n",
    "plt.xticks(fontsize=12,rotation=90)\n",
    "plt.show()"
   ]
  },
  {
   "cell_type": "markdown",
   "metadata": {},
   "source": [
    "We have some values in the future.."
   ]
  },
  {
   "cell_type": "code",
   "execution_count": 51,
   "metadata": {
    "scrolled": true
   },
   "outputs": [
    {
     "data": {
      "text/plain": [
       "146"
      ]
     },
     "execution_count": 51,
     "metadata": {},
     "output_type": "execute_result"
    }
   ],
   "source": [
    "len(data[(data['release_year'] > 2017) & (data['status'] == 'Released')])"
   ]
  },
  {
   "cell_type": "code",
   "execution_count": 52,
   "metadata": {
    "scrolled": true
   },
   "outputs": [
    {
     "data": {
      "text/plain": [
       "0"
      ]
     },
     "execution_count": 52,
     "metadata": {},
     "output_type": "execute_result"
    }
   ],
   "source": [
    "len(data[(data['release_year'] > 2017) & (data['status'] != 'Released')])"
   ]
  },
  {
   "cell_type": "markdown",
   "metadata": {},
   "source": [
    "All \"future\" movies have already been released"
   ]
  },
  {
   "cell_type": "code",
   "execution_count": 53,
   "metadata": {
    "scrolled": true
   },
   "outputs": [
    {
     "data": {
      "text/html": [
       "<div>\n",
       "<style scoped>\n",
       "    .dataframe tbody tr th:only-of-type {\n",
       "        vertical-align: middle;\n",
       "    }\n",
       "\n",
       "    .dataframe tbody tr th {\n",
       "        vertical-align: top;\n",
       "    }\n",
       "\n",
       "    .dataframe thead th {\n",
       "        text-align: right;\n",
       "    }\n",
       "</style>\n",
       "<table border=\"1\" class=\"dataframe\">\n",
       "  <thead>\n",
       "    <tr style=\"text-align: right;\">\n",
       "      <th></th>\n",
       "      <th>id</th>\n",
       "      <th>belongs_to_collection</th>\n",
       "      <th>budget</th>\n",
       "      <th>genres</th>\n",
       "      <th>homepage</th>\n",
       "      <th>imdb_id</th>\n",
       "      <th>original_language</th>\n",
       "      <th>original_title</th>\n",
       "      <th>overview</th>\n",
       "      <th>popularity</th>\n",
       "      <th>poster_path</th>\n",
       "      <th>production_companies</th>\n",
       "      <th>production_countries</th>\n",
       "      <th>release_date</th>\n",
       "      <th>runtime</th>\n",
       "      <th>spoken_languages</th>\n",
       "      <th>status</th>\n",
       "      <th>tagline</th>\n",
       "      <th>title</th>\n",
       "      <th>Keywords</th>\n",
       "      <th>cast</th>\n",
       "      <th>crew</th>\n",
       "      <th>revenue</th>\n",
       "      <th>title_same</th>\n",
       "      <th>has_homepage</th>\n",
       "      <th>is_collection</th>\n",
       "      <th>Keywords_list</th>\n",
       "      <th>sequel</th>\n",
       "      <th>duringcreditsstinger</th>\n",
       "      <th>violence</th>\n",
       "      <th>woman director</th>\n",
       "      <th>female nudity</th>\n",
       "      <th>nudity</th>\n",
       "      <th>dystopia</th>\n",
       "      <th>murder</th>\n",
       "      <th>biography</th>\n",
       "      <th>independent film</th>\n",
       "      <th>suspense</th>\n",
       "      <th>friendship</th>\n",
       "      <th>sex</th>\n",
       "      <th>love</th>\n",
       "      <th>based on novel</th>\n",
       "      <th>police</th>\n",
       "      <th>teenager</th>\n",
       "      <th>sport</th>\n",
       "      <th>revenge</th>\n",
       "      <th>drug</th>\n",
       "      <th>aftercreditsstinger</th>\n",
       "      <th>num_Keywords</th>\n",
       "      <th>release_year</th>\n",
       "    </tr>\n",
       "  </thead>\n",
       "  <tbody>\n",
       "    <tr>\n",
       "      <th>39</th>\n",
       "      <td>40</td>\n",
       "      <td>NaN</td>\n",
       "      <td>3800000</td>\n",
       "      <td>[{'id': 10752, 'name': 'War'}, {'id': 37, 'nam...</td>\n",
       "      <td>NaN</td>\n",
       "      <td>tt0059418</td>\n",
       "      <td>en</td>\n",
       "      <td>Major Dundee</td>\n",
       "      <td>During the last winter of the Civil War, caval...</td>\n",
       "      <td>3.055936</td>\n",
       "      <td>/bwLMwKun3RNn9rmcfMfJw11ofNh.jpg</td>\n",
       "      <td>[{'name': 'Columbia Pictures Corporation', 'id...</td>\n",
       "      <td>[{'iso_3166_1': 'US', 'name': 'United States o...</td>\n",
       "      <td>4/7/65</td>\n",
       "      <td>123.0</td>\n",
       "      <td>[{'iso_639_1': 'en', 'name': 'English'}, {'iso...</td>\n",
       "      <td>Released</td>\n",
       "      <td>NaN</td>\n",
       "      <td>Major Dundee</td>\n",
       "      <td>[{'id': 534, 'name': 'mexico'}, {'id': 1968, '...</td>\n",
       "      <td>[{'cast_id': 1, 'character': 'Major Amos Charl...</td>\n",
       "      <td>[{'credit_id': '52fe45f5c3a368484e078d7b', 'de...</td>\n",
       "      <td>14873</td>\n",
       "      <td>True</td>\n",
       "      <td>False</td>\n",
       "      <td>False</td>\n",
       "      <td>[mexico, prisoners of war, apache, raid, confe...</td>\n",
       "      <td>False</td>\n",
       "      <td>False</td>\n",
       "      <td>False</td>\n",
       "      <td>False</td>\n",
       "      <td>False</td>\n",
       "      <td>False</td>\n",
       "      <td>False</td>\n",
       "      <td>False</td>\n",
       "      <td>False</td>\n",
       "      <td>False</td>\n",
       "      <td>False</td>\n",
       "      <td>False</td>\n",
       "      <td>False</td>\n",
       "      <td>False</td>\n",
       "      <td>False</td>\n",
       "      <td>False</td>\n",
       "      <td>False</td>\n",
       "      <td>False</td>\n",
       "      <td>False</td>\n",
       "      <td>False</td>\n",
       "      <td>False</td>\n",
       "      <td>5</td>\n",
       "      <td>2065</td>\n",
       "    </tr>\n",
       "    <tr>\n",
       "      <th>41</th>\n",
       "      <td>42</td>\n",
       "      <td>NaN</td>\n",
       "      <td>3000000</td>\n",
       "      <td>[{'id': 80, 'name': 'Crime'}, {'id': 18, 'name...</td>\n",
       "      <td>NaN</td>\n",
       "      <td>tt0061512</td>\n",
       "      <td>en</td>\n",
       "      <td>Cool Hand Luke</td>\n",
       "      <td>When petty criminal Luke Jackson is sentenced ...</td>\n",
       "      <td>9.718713</td>\n",
       "      <td>/vDwphkloD7ToaDpKASAXGgHOclN.jpg</td>\n",
       "      <td>[{'name': 'Warner Bros.', 'id': 6194}, {'name'...</td>\n",
       "      <td>[{'iso_3166_1': 'US', 'name': 'United States o...</td>\n",
       "      <td>6/22/67</td>\n",
       "      <td>126.0</td>\n",
       "      <td>[{'iso_639_1': 'en', 'name': 'English'}]</td>\n",
       "      <td>Released</td>\n",
       "      <td>What we've got here is failure to communicate.</td>\n",
       "      <td>Cool Hand Luke</td>\n",
       "      <td>[{'id': 378, 'name': 'prison'}, {'id': 526, 'n...</td>\n",
       "      <td>[{'cast_id': 13, 'character': 'Luke Jackson', ...</td>\n",
       "      <td>[{'credit_id': '52fe428ac3a36847f8026d8d', 'de...</td>\n",
       "      <td>16217773</td>\n",
       "      <td>True</td>\n",
       "      <td>False</td>\n",
       "      <td>False</td>\n",
       "      <td>[prison, rebel, loss of mother, harassment, im...</td>\n",
       "      <td>False</td>\n",
       "      <td>False</td>\n",
       "      <td>False</td>\n",
       "      <td>False</td>\n",
       "      <td>False</td>\n",
       "      <td>False</td>\n",
       "      <td>False</td>\n",
       "      <td>False</td>\n",
       "      <td>False</td>\n",
       "      <td>False</td>\n",
       "      <td>False</td>\n",
       "      <td>False</td>\n",
       "      <td>False</td>\n",
       "      <td>False</td>\n",
       "      <td>False</td>\n",
       "      <td>False</td>\n",
       "      <td>False</td>\n",
       "      <td>False</td>\n",
       "      <td>False</td>\n",
       "      <td>False</td>\n",
       "      <td>False</td>\n",
       "      <td>12</td>\n",
       "      <td>2067</td>\n",
       "    </tr>\n",
       "    <tr>\n",
       "      <th>51</th>\n",
       "      <td>52</td>\n",
       "      <td>NaN</td>\n",
       "      <td>12000000</td>\n",
       "      <td>[{'id': 12, 'name': 'Adventure'}, {'id': 35, '...</td>\n",
       "      <td>NaN</td>\n",
       "      <td>tt0059243</td>\n",
       "      <td>en</td>\n",
       "      <td>The Great Race</td>\n",
       "      <td>Professional daredevil and white-suited hero, ...</td>\n",
       "      <td>4.473327</td>\n",
       "      <td>/nc6FRAVC4a8o4podiFy2P5qI9ul.jpg</td>\n",
       "      <td>[{'name': 'Warner Bros.', 'id': 6194}]</td>\n",
       "      <td>[{'iso_3166_1': 'US', 'name': 'United States o...</td>\n",
       "      <td>7/1/65</td>\n",
       "      <td>160.0</td>\n",
       "      <td>[{'iso_639_1': 'en', 'name': 'English'}, {'iso...</td>\n",
       "      <td>Released</td>\n",
       "      <td>The movie with 20,000-mile or one-million-laug...</td>\n",
       "      <td>The Great Race</td>\n",
       "      <td>[{'id': 9253, 'name': 'slapstick'}, {'id': 159...</td>\n",
       "      <td>[{'cast_id': 1, 'character': 'Prof. Fate', 'cr...</td>\n",
       "      <td>[{'credit_id': '52fe445e9251416c75032581', 'de...</td>\n",
       "      <td>25333333</td>\n",
       "      <td>True</td>\n",
       "      <td>False</td>\n",
       "      <td>False</td>\n",
       "      <td>[slapstick, ensemble cast, automobile racing, ...</td>\n",
       "      <td>False</td>\n",
       "      <td>False</td>\n",
       "      <td>False</td>\n",
       "      <td>False</td>\n",
       "      <td>False</td>\n",
       "      <td>False</td>\n",
       "      <td>False</td>\n",
       "      <td>False</td>\n",
       "      <td>False</td>\n",
       "      <td>False</td>\n",
       "      <td>False</td>\n",
       "      <td>False</td>\n",
       "      <td>False</td>\n",
       "      <td>False</td>\n",
       "      <td>False</td>\n",
       "      <td>False</td>\n",
       "      <td>False</td>\n",
       "      <td>False</td>\n",
       "      <td>False</td>\n",
       "      <td>False</td>\n",
       "      <td>False</td>\n",
       "      <td>5</td>\n",
       "      <td>2065</td>\n",
       "    </tr>\n",
       "    <tr>\n",
       "      <th>61</th>\n",
       "      <td>62</td>\n",
       "      <td>NaN</td>\n",
       "      <td>4000000</td>\n",
       "      <td>[{'id': 18, 'name': 'Drama'}]</td>\n",
       "      <td>NaN</td>\n",
       "      <td>tt0049875</td>\n",
       "      <td>en</td>\n",
       "      <td>Trapeze</td>\n",
       "      <td>A pair of men try to perform the dangerous \"tr...</td>\n",
       "      <td>1.801071</td>\n",
       "      <td>/tAExVSQUlby56ATBlMnA2BrbA25.jpg</td>\n",
       "      <td>[{'name': 'Joanna Productions', 'id': 5799}]</td>\n",
       "      <td>[{'iso_3166_1': 'US', 'name': 'United States o...</td>\n",
       "      <td>5/30/56</td>\n",
       "      <td>105.0</td>\n",
       "      <td>[{'iso_639_1': 'en', 'name': 'English'}, {'iso...</td>\n",
       "      <td>Released</td>\n",
       "      <td>High...High...High...Above Them All! - in exci...</td>\n",
       "      <td>Trapeze</td>\n",
       "      <td>[{'id': 291, 'name': 'circus'}, {'id': 180181,...</td>\n",
       "      <td>[{'cast_id': 2, 'character': 'Mike Ribble', 'c...</td>\n",
       "      <td>[{'credit_id': '52fe4594c3a36847f80cf3b9', 'de...</td>\n",
       "      <td>14400000</td>\n",
       "      <td>True</td>\n",
       "      <td>False</td>\n",
       "      <td>False</td>\n",
       "      <td>[circus, trapeze artist]</td>\n",
       "      <td>False</td>\n",
       "      <td>False</td>\n",
       "      <td>False</td>\n",
       "      <td>False</td>\n",
       "      <td>False</td>\n",
       "      <td>False</td>\n",
       "      <td>False</td>\n",
       "      <td>False</td>\n",
       "      <td>False</td>\n",
       "      <td>False</td>\n",
       "      <td>False</td>\n",
       "      <td>False</td>\n",
       "      <td>False</td>\n",
       "      <td>False</td>\n",
       "      <td>False</td>\n",
       "      <td>False</td>\n",
       "      <td>False</td>\n",
       "      <td>False</td>\n",
       "      <td>False</td>\n",
       "      <td>False</td>\n",
       "      <td>False</td>\n",
       "      <td>2</td>\n",
       "      <td>2056</td>\n",
       "    </tr>\n",
       "    <tr>\n",
       "      <th>68</th>\n",
       "      <td>69</td>\n",
       "      <td>NaN</td>\n",
       "      <td>2000000</td>\n",
       "      <td>[{'id': 80, 'name': 'Crime'}, {'id': 18, 'name...</td>\n",
       "      <td>NaN</td>\n",
       "      <td>tt0056592</td>\n",
       "      <td>en</td>\n",
       "      <td>To Kill a Mockingbird</td>\n",
       "      <td>In a small Alabama town in the 1930s, scrupulo...</td>\n",
       "      <td>14.284787</td>\n",
       "      <td>/gQg6sPYfNTUlf8wEtydzWl09RyR.jpg</td>\n",
       "      <td>[{'name': 'Universal Pictures', 'id': 33}]</td>\n",
       "      <td>[{'iso_3166_1': 'US', 'name': 'United States o...</td>\n",
       "      <td>12/25/62</td>\n",
       "      <td>129.0</td>\n",
       "      <td>[{'iso_639_1': 'en', 'name': 'English'}]</td>\n",
       "      <td>Released</td>\n",
       "      <td>NaN</td>\n",
       "      <td>To Kill a Mockingbird</td>\n",
       "      <td>[{'id': 577, 'name': 'black people'}, {'id': 8...</td>\n",
       "      <td>[{'cast_id': 8, 'character': 'Atticus Finch', ...</td>\n",
       "      <td>[{'credit_id': '52fe4259c3a36847f801770d', 'de...</td>\n",
       "      <td>13129846</td>\n",
       "      <td>True</td>\n",
       "      <td>False</td>\n",
       "      <td>False</td>\n",
       "      <td>[black people, based on novel, brother sister ...</td>\n",
       "      <td>False</td>\n",
       "      <td>False</td>\n",
       "      <td>False</td>\n",
       "      <td>False</td>\n",
       "      <td>False</td>\n",
       "      <td>False</td>\n",
       "      <td>False</td>\n",
       "      <td>False</td>\n",
       "      <td>False</td>\n",
       "      <td>False</td>\n",
       "      <td>False</td>\n",
       "      <td>False</td>\n",
       "      <td>False</td>\n",
       "      <td>False</td>\n",
       "      <td>True</td>\n",
       "      <td>False</td>\n",
       "      <td>False</td>\n",
       "      <td>False</td>\n",
       "      <td>False</td>\n",
       "      <td>False</td>\n",
       "      <td>False</td>\n",
       "      <td>17</td>\n",
       "      <td>2062</td>\n",
       "    </tr>\n",
       "  </tbody>\n",
       "</table>\n",
       "</div>"
      ],
      "text/plain": [
       "    id belongs_to_collection    budget  \\\n",
       "39  40                   NaN   3800000   \n",
       "41  42                   NaN   3000000   \n",
       "51  52                   NaN  12000000   \n",
       "61  62                   NaN   4000000   \n",
       "68  69                   NaN   2000000   \n",
       "\n",
       "                                               genres homepage    imdb_id  \\\n",
       "39  [{'id': 10752, 'name': 'War'}, {'id': 37, 'nam...      NaN  tt0059418   \n",
       "41  [{'id': 80, 'name': 'Crime'}, {'id': 18, 'name...      NaN  tt0061512   \n",
       "51  [{'id': 12, 'name': 'Adventure'}, {'id': 35, '...      NaN  tt0059243   \n",
       "61                      [{'id': 18, 'name': 'Drama'}]      NaN  tt0049875   \n",
       "68  [{'id': 80, 'name': 'Crime'}, {'id': 18, 'name...      NaN  tt0056592   \n",
       "\n",
       "   original_language         original_title  \\\n",
       "39                en           Major Dundee   \n",
       "41                en         Cool Hand Luke   \n",
       "51                en         The Great Race   \n",
       "61                en                Trapeze   \n",
       "68                en  To Kill a Mockingbird   \n",
       "\n",
       "                                             overview  popularity  \\\n",
       "39  During the last winter of the Civil War, caval...    3.055936   \n",
       "41  When petty criminal Luke Jackson is sentenced ...    9.718713   \n",
       "51  Professional daredevil and white-suited hero, ...    4.473327   \n",
       "61  A pair of men try to perform the dangerous \"tr...    1.801071   \n",
       "68  In a small Alabama town in the 1930s, scrupulo...   14.284787   \n",
       "\n",
       "                         poster_path  \\\n",
       "39  /bwLMwKun3RNn9rmcfMfJw11ofNh.jpg   \n",
       "41  /vDwphkloD7ToaDpKASAXGgHOclN.jpg   \n",
       "51  /nc6FRAVC4a8o4podiFy2P5qI9ul.jpg   \n",
       "61  /tAExVSQUlby56ATBlMnA2BrbA25.jpg   \n",
       "68  /gQg6sPYfNTUlf8wEtydzWl09RyR.jpg   \n",
       "\n",
       "                                 production_companies  \\\n",
       "39  [{'name': 'Columbia Pictures Corporation', 'id...   \n",
       "41  [{'name': 'Warner Bros.', 'id': 6194}, {'name'...   \n",
       "51             [{'name': 'Warner Bros.', 'id': 6194}]   \n",
       "61       [{'name': 'Joanna Productions', 'id': 5799}]   \n",
       "68         [{'name': 'Universal Pictures', 'id': 33}]   \n",
       "\n",
       "                                 production_countries release_date  runtime  \\\n",
       "39  [{'iso_3166_1': 'US', 'name': 'United States o...       4/7/65    123.0   \n",
       "41  [{'iso_3166_1': 'US', 'name': 'United States o...      6/22/67    126.0   \n",
       "51  [{'iso_3166_1': 'US', 'name': 'United States o...       7/1/65    160.0   \n",
       "61  [{'iso_3166_1': 'US', 'name': 'United States o...      5/30/56    105.0   \n",
       "68  [{'iso_3166_1': 'US', 'name': 'United States o...     12/25/62    129.0   \n",
       "\n",
       "                                     spoken_languages    status  \\\n",
       "39  [{'iso_639_1': 'en', 'name': 'English'}, {'iso...  Released   \n",
       "41           [{'iso_639_1': 'en', 'name': 'English'}]  Released   \n",
       "51  [{'iso_639_1': 'en', 'name': 'English'}, {'iso...  Released   \n",
       "61  [{'iso_639_1': 'en', 'name': 'English'}, {'iso...  Released   \n",
       "68           [{'iso_639_1': 'en', 'name': 'English'}]  Released   \n",
       "\n",
       "                                              tagline                  title  \\\n",
       "39                                                NaN           Major Dundee   \n",
       "41     What we've got here is failure to communicate.         Cool Hand Luke   \n",
       "51  The movie with 20,000-mile or one-million-laug...         The Great Race   \n",
       "61  High...High...High...Above Them All! - in exci...                Trapeze   \n",
       "68                                                NaN  To Kill a Mockingbird   \n",
       "\n",
       "                                             Keywords  \\\n",
       "39  [{'id': 534, 'name': 'mexico'}, {'id': 1968, '...   \n",
       "41  [{'id': 378, 'name': 'prison'}, {'id': 526, 'n...   \n",
       "51  [{'id': 9253, 'name': 'slapstick'}, {'id': 159...   \n",
       "61  [{'id': 291, 'name': 'circus'}, {'id': 180181,...   \n",
       "68  [{'id': 577, 'name': 'black people'}, {'id': 8...   \n",
       "\n",
       "                                                 cast  \\\n",
       "39  [{'cast_id': 1, 'character': 'Major Amos Charl...   \n",
       "41  [{'cast_id': 13, 'character': 'Luke Jackson', ...   \n",
       "51  [{'cast_id': 1, 'character': 'Prof. Fate', 'cr...   \n",
       "61  [{'cast_id': 2, 'character': 'Mike Ribble', 'c...   \n",
       "68  [{'cast_id': 8, 'character': 'Atticus Finch', ...   \n",
       "\n",
       "                                                 crew   revenue  title_same  \\\n",
       "39  [{'credit_id': '52fe45f5c3a368484e078d7b', 'de...     14873        True   \n",
       "41  [{'credit_id': '52fe428ac3a36847f8026d8d', 'de...  16217773        True   \n",
       "51  [{'credit_id': '52fe445e9251416c75032581', 'de...  25333333        True   \n",
       "61  [{'credit_id': '52fe4594c3a36847f80cf3b9', 'de...  14400000        True   \n",
       "68  [{'credit_id': '52fe4259c3a36847f801770d', 'de...  13129846        True   \n",
       "\n",
       "    has_homepage  is_collection  \\\n",
       "39         False          False   \n",
       "41         False          False   \n",
       "51         False          False   \n",
       "61         False          False   \n",
       "68         False          False   \n",
       "\n",
       "                                        Keywords_list  sequel  \\\n",
       "39  [mexico, prisoners of war, apache, raid, confe...   False   \n",
       "41  [prison, rebel, loss of mother, harassment, im...   False   \n",
       "51  [slapstick, ensemble cast, automobile racing, ...   False   \n",
       "61                           [circus, trapeze artist]   False   \n",
       "68  [black people, based on novel, brother sister ...   False   \n",
       "\n",
       "    duringcreditsstinger  violence  woman director  female nudity  nudity  \\\n",
       "39                 False     False           False          False   False   \n",
       "41                 False     False           False          False   False   \n",
       "51                 False     False           False          False   False   \n",
       "61                 False     False           False          False   False   \n",
       "68                 False     False           False          False   False   \n",
       "\n",
       "    dystopia  murder  biography  independent film  suspense  friendship  \\\n",
       "39     False   False      False             False     False       False   \n",
       "41     False   False      False             False     False       False   \n",
       "51     False   False      False             False     False       False   \n",
       "61     False   False      False             False     False       False   \n",
       "68     False   False      False             False     False       False   \n",
       "\n",
       "      sex   love  based on novel  police  teenager  sport  revenge   drug  \\\n",
       "39  False  False           False   False     False  False    False  False   \n",
       "41  False  False           False   False     False  False    False  False   \n",
       "51  False  False           False   False     False  False    False  False   \n",
       "61  False  False           False   False     False  False    False  False   \n",
       "68  False  False            True   False     False  False    False  False   \n",
       "\n",
       "    aftercreditsstinger  num_Keywords  release_year  \n",
       "39                False             5          2065  \n",
       "41                False            12          2067  \n",
       "51                False             5          2065  \n",
       "61                False             2          2056  \n",
       "68                False            17          2062  "
      ]
     },
     "execution_count": 53,
     "metadata": {},
     "output_type": "execute_result"
    }
   ],
   "source": [
    "data[(data['release_year'] > 2017) & (data['status'] == 'Released')].head()"
   ]
  },
  {
   "cell_type": "markdown",
   "metadata": {},
   "source": [
    "The year was wrongly parsed.."
   ]
  },
  {
   "cell_type": "code",
   "execution_count": 54,
   "metadata": {},
   "outputs": [],
   "source": [
    "releaseDate = releaseDate.apply(lambda x: x.replace(year=x.year - 100) if x.year > 2017 else x)"
   ]
  },
  {
   "cell_type": "code",
   "execution_count": 55,
   "metadata": {},
   "outputs": [],
   "source": [
    "releaseDateTest = releaseDateTest.apply(lambda x: x.replace(year=x.year - 100) if x.year > 2017 else x)"
   ]
  },
  {
   "cell_type": "code",
   "execution_count": 56,
   "metadata": {},
   "outputs": [],
   "source": [
    "data['release_year'] = releaseDate.dt.year"
   ]
  },
  {
   "cell_type": "code",
   "execution_count": 57,
   "metadata": {},
   "outputs": [],
   "source": [
    "test['release_year'] = releaseDateTest.dt.year"
   ]
  },
  {
   "cell_type": "code",
   "execution_count": 58,
   "metadata": {},
   "outputs": [
    {
     "data": {
      "image/png": "[encoded data removed]",
      "text/plain": [
       "<Figure size 1440x864 with 1 Axes>"
      ]
     },
     "metadata": {
      "needs_background": "light"
     },
     "output_type": "display_data"
    }
   ],
   "source": [
    "plt.figure(figsize=(20,12))\n",
    "sns.countplot(data['release_year'].sort_values())\n",
    "plt.title(\"Movie Release count by Year\",fontsize=20)\n",
    "loc, labels = plt.xticks()\n",
    "plt.xticks(fontsize=12,rotation=90)\n",
    "plt.show()"
   ]
  },
  {
   "cell_type": "code",
   "execution_count": 59,
   "metadata": {},
   "outputs": [],
   "source": [
    "data['release_month'] = releaseDate.dt.month"
   ]
  },
  {
   "cell_type": "code",
   "execution_count": 60,
   "metadata": {},
   "outputs": [],
   "source": [
    "test['release_month'] = releaseDateTest.dt.month"
   ]
  },
  {
   "cell_type": "code",
   "execution_count": 61,
   "metadata": {},
   "outputs": [],
   "source": [
    "data['release_day'] = releaseDate.dt.dayofweek"
   ]
  },
  {
   "cell_type": "code",
   "execution_count": 62,
   "metadata": {},
   "outputs": [],
   "source": [
    "test['release_day'] = releaseDateTest.dt.dayofweek"
   ]
  },
  {
   "cell_type": "code",
   "execution_count": 63,
   "metadata": {},
   "outputs": [],
   "source": [
    "data['release_quarter'] = releaseDate.dt.quarter"
   ]
  },
  {
   "cell_type": "code",
   "execution_count": 64,
   "metadata": {},
   "outputs": [],
   "source": [
    "test['release_quarter'] = releaseDateTest.dt.quarter"
   ]
  },
  {
   "cell_type": "code",
   "execution_count": 65,
   "metadata": {},
   "outputs": [
    {
     "data": {
      "image/png": "[encoded data removed]",
      "text/plain": [
       "<Figure size 1440x864 with 1 Axes>"
      ]
     },
     "metadata": {
      "needs_background": "light"
     },
     "output_type": "display_data"
    },
    {
     "data": {
      "image/png": "[encoded data removed]",
      "text/plain": [
       "<Figure size 1440x864 with 1 Axes>"
      ]
     },
     "metadata": {
      "needs_background": "light"
     },
     "output_type": "display_data"
    },
    {
     "data": {
      "image/png": "[encoded data removed]",
      "text/plain": [
       "<Figure size 1440x864 with 1 Axes>"
      ]
     },
     "metadata": {
      "needs_background": "light"
     },
     "output_type": "display_data"
    },
    {
     "data": {
      "image/png": "[encoded data removed]",
      "text/plain": [
       "<Figure size 1440x864 with 1 Axes>"
      ]
     },
     "metadata": {
      "needs_background": "light"
     },
     "output_type": "display_data"
    }
   ],
   "source": [
    "for d in ['release_day', 'release_month', 'release_quarter', 'release_year']:\n",
    "    plt.figure(figsize=(20,12))\n",
    "    sns.countplot(data[d].sort_values())\n",
    "    plt.title(\"Movie Release count by {}\".format(d),fontsize=20)\n",
    "    loc, labels = plt.xticks()\n",
    "    plt.xticks(fontsize=12,rotation=90)\n",
    "    plt.show()"
   ]
  },
  {
   "cell_type": "code",
   "execution_count": 66,
   "metadata": {},
   "outputs": [
    {
     "data": {
      "image/png": "[encoded data removed]",
      "text/plain": [
       "<Figure size 1440x864 with 1 Axes>"
      ]
     },
     "metadata": {
      "needs_background": "light"
     },
     "output_type": "display_data"
    },
    {
     "data": {
      "image/png": "[encoded data removed]",
      "text/plain": [
       "<Figure size 1440x864 with 1 Axes>"
      ]
     },
     "metadata": {
      "needs_background": "light"
     },
     "output_type": "display_data"
    },
    {
     "data": {
      "image/png": "[encoded data removed]",
      "text/plain": [
       "<Figure size 1440x864 with 1 Axes>"
      ]
     },
     "metadata": {
      "needs_background": "light"
     },
     "output_type": "display_data"
    },
    {
     "data": {
      "image/png": "[encoded data removed]",
      "text/plain": [
       "<Figure size 1440x864 with 1 Axes>"
      ]
     },
     "metadata": {
      "needs_background": "light"
     },
     "output_type": "display_data"
    }
   ],
   "source": [
    "for d in ['release_day', 'release_month', 'release_quarter', 'release_year']:\n",
    "    plt.figure(figsize=(20,12))\n",
    "    sns.barplot(x=d, y='revenue', data=data)\n",
    "    plt.title(\"Revenue by {}\".format(d),fontsize=20)\n",
    "    plt.show()"
   ]
  },
  {
   "cell_type": "code",
   "execution_count": 67,
   "metadata": {},
   "outputs": [],
   "source": [
    "def inflate(num, duration, percent):\n",
    "    return num * inflated(duration, percent)\n",
    "def inflated(duration, percent):\n",
    "    return (1 + percent)**duration"
   ]
  },
  {
   "cell_type": "code",
   "execution_count": 68,
   "metadata": {},
   "outputs": [],
   "source": [
    "inflation = 0.01"
   ]
  },
  {
   "cell_type": "code",
   "execution_count": 69,
   "metadata": {},
   "outputs": [],
   "source": [
    "data['inflated_revenue'] = data.apply(lambda row: inflate(row['revenue'], 2017 - row['release_year'], inflation), axis=1)"
   ]
  },
  {
   "cell_type": "code",
   "execution_count": 70,
   "metadata": {},
   "outputs": [
    {
     "data": {
      "image/png": "[encoded data removed]",
      "text/plain": [
       "<Figure size 1440x864 with 1 Axes>"
      ]
     },
     "metadata": {
      "needs_background": "light"
     },
     "output_type": "display_data"
    }
   ],
   "source": [
    "plt.figure(figsize=(20,12))\n",
    "sns.barplot(x='release_year', y='inflated_revenue', data=data)\n",
    "plt.title(\"Inflated revenue by year\",fontsize=20)\n",
    "plt.show()"
   ]
  },
  {
   "cell_type": "code",
   "execution_count": 71,
   "metadata": {},
   "outputs": [],
   "source": [
    "attributes.extend(['release_year', 'release_quarter', 'release_day', 'release_month'])"
   ]
  },
  {
   "cell_type": "markdown",
   "metadata": {},
   "source": [
    "## Budget"
   ]
  },
  {
   "cell_type": "code",
   "execution_count": 72,
   "metadata": {},
   "outputs": [
    {
     "data": {
      "text/plain": [
       "812"
      ]
     },
     "execution_count": 72,
     "metadata": {},
     "output_type": "execute_result"
    }
   ],
   "source": [
    "len(data[data['budget'] == 0.0])"
   ]
  },
  {
   "cell_type": "code",
   "execution_count": 73,
   "metadata": {},
   "outputs": [
    {
     "data": {
      "text/plain": [
       "1211"
      ]
     },
     "execution_count": 73,
     "metadata": {},
     "output_type": "execute_result"
    }
   ],
   "source": [
    "len(test[test['budget'] == 0.0])"
   ]
  },
  {
   "cell_type": "code",
   "execution_count": 74,
   "metadata": {},
   "outputs": [
    {
     "data": {
      "image/png": "[encoded data removed]",
      "text/plain": [
       "<Figure size 1440x864 with 1 Axes>"
      ]
     },
     "metadata": {
      "needs_background": "light"
     },
     "output_type": "display_data"
    }
   ],
   "source": [
    "plt.figure(figsize=(20,12))\n",
    "sns.scatterplot(x='budget', y='revenue', data=data)\n",
    "plt.title(\"budget by revenue\",fontsize=20)\n",
    "plt.show()"
   ]
  },
  {
   "cell_type": "code",
   "execution_count": 75,
   "metadata": {},
   "outputs": [],
   "source": [
    "attributes.append('budget')"
   ]
  },
  {
   "cell_type": "markdown",
   "metadata": {},
   "source": [
    "## Popularity"
   ]
  },
  {
   "cell_type": "code",
   "execution_count": 76,
   "metadata": {},
   "outputs": [
    {
     "ename": "NameError",
     "evalue": "name 'data_total' is not defined",
     "output_type": "error",
     "traceback": [
      "\u001b[1;31m---------------------------------------------------------------------------\u001b[0m",
      "\u001b[1;31mNameError\u001b[0m                                 Traceback (most recent call last)",
      "\u001b[1;32m<ipython-input-76-1777968af8f6>\u001b[0m in \u001b[0;36m<module>\u001b[1;34m\u001b[0m\n\u001b[0;32m      1\u001b[0m \u001b[0mplt\u001b[0m\u001b[1;33m.\u001b[0m\u001b[0mfigure\u001b[0m\u001b[1;33m(\u001b[0m\u001b[0mfigsize\u001b[0m\u001b[1;33m=\u001b[0m\u001b[1;33m(\u001b[0m\u001b[1;36m20\u001b[0m\u001b[1;33m,\u001b[0m\u001b[1;36m12\u001b[0m\u001b[1;33m)\u001b[0m\u001b[1;33m)\u001b[0m\u001b[1;33m\u001b[0m\u001b[1;33m\u001b[0m\u001b[0m\n\u001b[1;32m----> 2\u001b[1;33m \u001b[0msns\u001b[0m\u001b[1;33m.\u001b[0m\u001b[0mscatterplot\u001b[0m\u001b[1;33m(\u001b[0m\u001b[0mx\u001b[0m\u001b[1;33m=\u001b[0m\u001b[1;34m'release_year'\u001b[0m\u001b[1;33m,\u001b[0m \u001b[0my\u001b[0m\u001b[1;33m=\u001b[0m\u001b[1;34m'popularity'\u001b[0m\u001b[1;33m,\u001b[0m \u001b[0mdata\u001b[0m\u001b[1;33m=\u001b[0m\u001b[0mdata_total\u001b[0m\u001b[1;33m)\u001b[0m\u001b[1;33m\u001b[0m\u001b[1;33m\u001b[0m\u001b[0m\n\u001b[0m\u001b[0;32m      3\u001b[0m \u001b[0mplt\u001b[0m\u001b[1;33m.\u001b[0m\u001b[0mtitle\u001b[0m\u001b[1;33m(\u001b[0m\u001b[1;34m\"popularity by revenue\"\u001b[0m\u001b[1;33m,\u001b[0m\u001b[0mfontsize\u001b[0m\u001b[1;33m=\u001b[0m\u001b[1;36m20\u001b[0m\u001b[1;33m)\u001b[0m\u001b[1;33m\u001b[0m\u001b[1;33m\u001b[0m\u001b[0m\n\u001b[0;32m      4\u001b[0m \u001b[0mplt\u001b[0m\u001b[1;33m.\u001b[0m\u001b[0mshow\u001b[0m\u001b[1;33m(\u001b[0m\u001b[1;33m)\u001b[0m\u001b[1;33m\u001b[0m\u001b[1;33m\u001b[0m\u001b[0m\n",
      "\u001b[1;31mNameError\u001b[0m: name 'data_total' is not defined"
     ]
    },
    {
     "data": {
      "text/plain": [
       "<Figure size 1440x864 with 0 Axes>"
      ]
     },
     "metadata": {},
     "output_type": "display_data"
    }
   ],
   "source": [
    "plt.figure(figsize=(20,12))\n",
    "sns.scatterplot(x='release_year', y='popularity', data=data_total)\n",
    "plt.title(\"popularity by revenue\",fontsize=20)\n",
    "plt.show()"
   ]
  },
  {
   "cell_type": "code",
   "execution_count": null,
   "metadata": {},
   "outputs": [],
   "source": [
    "data_total = data.append(test)\n",
    "#data[data['popularity']> 50]\n"
   ]
  },
  {
   "cell_type": "code",
   "execution_count": null,
   "metadata": {},
   "outputs": [],
   "source": [
    "data_total[data_total['popularity']> 50]"
   ]
  },
  {
   "cell_type": "code",
   "execution_count": null,
   "metadata": {},
   "outputs": [],
   "source": [
    "attributes.append('popularity')"
   ]
  },
  {
   "cell_type": "code",
   "execution_count": null,
   "metadata": {},
   "outputs": [],
   "source": [
    "data.sort_values(by=['revenue'], ascending = False)"
   ]
  },
  {
   "cell_type": "markdown",
   "metadata": {
    "scrolled": true
   },
   "source": [
    "## Genres"
   ]
  },
  {
   "cell_type": "code",
   "execution_count": null,
   "metadata": {},
   "outputs": [],
   "source": [
    "genres_res = plot_multivalue_column(data, 'genres', Y='revenue', select=lambda x: x['name'], scatterplot=False, min_entries=50)"
   ]
  },
  {
   "cell_type": "code",
   "execution_count": null,
   "metadata": {},
   "outputs": [],
   "source": [
    "genres_test_res = plot_multivalue_column(test, 'genres', select=lambda x: x['name'], scatterplot=False, list_entries=genres_res)"
   ]
  },
  {
   "cell_type": "markdown",
   "metadata": {},
   "source": [
    "Revenue compared to genres, NOTE: movies with multiple genres are shown multiple times"
   ]
  },
  {
   "cell_type": "code",
   "execution_count": null,
   "metadata": {},
   "outputs": [],
   "source": [
    "attributes.extend(genres_res)"
   ]
  },
  {
   "cell_type": "code",
   "execution_count": null,
   "metadata": {},
   "outputs": [],
   "source": [
    "attributes.append('num_genres')"
   ]
  },
  {
   "cell_type": "markdown",
   "metadata": {},
   "source": [
    "### Spoken language"
   ]
  },
  {
   "cell_type": "code",
   "execution_count": null,
   "metadata": {},
   "outputs": [],
   "source": [
    "spoken_languages_res = plot_multivalue_column(data, 'spoken_languages', Y='revenue', select=lambda x: x['name'], min_entries=100, scatterplot=False)"
   ]
  },
  {
   "cell_type": "code",
   "execution_count": null,
   "metadata": {},
   "outputs": [],
   "source": [
    "spoken_languages_test_res = plot_multivalue_column(test, 'spoken_languages', select=lambda x: x['name'], scatterplot=False, list_entries=spoken_languages_res)"
   ]
  },
  {
   "cell_type": "markdown",
   "metadata": {},
   "source": [
    "NOTE: Movies with multiple langauges are shown multiple times"
   ]
  },
  {
   "cell_type": "code",
   "execution_count": null,
   "metadata": {},
   "outputs": [],
   "source": [
    "attributes.extend(spoken_languages_res)"
   ]
  },
  {
   "cell_type": "code",
   "execution_count": null,
   "metadata": {},
   "outputs": [],
   "source": [
    "attributes.append('num_spoken_languages')"
   ]
  },
  {
   "cell_type": "markdown",
   "metadata": {},
   "source": [
    "### Production companies"
   ]
  },
  {
   "cell_type": "code",
   "execution_count": null,
   "metadata": {},
   "outputs": [],
   "source": [
    "production_companies_res = plot_multivalue_column(data, 'production_companies', Y='revenue', select=lambda x: x['name'], min_entries=60, scatterplot=False)"
   ]
  },
  {
   "cell_type": "code",
   "execution_count": null,
   "metadata": {},
   "outputs": [],
   "source": [
    "production_companies_test_res = plot_multivalue_column(test, 'production_companies', select=lambda x: x['name'], min_entries=60, scatterplot=False, list_entries=production_companies_res)"
   ]
  },
  {
   "cell_type": "code",
   "execution_count": null,
   "metadata": {},
   "outputs": [],
   "source": [
    "attributes.extend(production_companies_res)"
   ]
  },
  {
   "cell_type": "code",
   "execution_count": null,
   "metadata": {},
   "outputs": [],
   "source": [
    "attributes.append('num_production_companies')"
   ]
  },
  {
   "cell_type": "markdown",
   "metadata": {},
   "source": [
    "## Production countries"
   ]
  },
  {
   "cell_type": "code",
   "execution_count": null,
   "metadata": {},
   "outputs": [],
   "source": [
    "production_countries_res = plot_multivalue_column(data, 'production_countries', Y='revenue', select=lambda x: x['name'], min_entries=100, scatterplot=False)"
   ]
  },
  {
   "cell_type": "code",
   "execution_count": null,
   "metadata": {},
   "outputs": [],
   "source": [
    "production_countries_test_res = plot_multivalue_column(test, 'production_countries', select=lambda x: x['name'], min_entries=60, scatterplot=False, list_entries=production_countries_res)"
   ]
  },
  {
   "cell_type": "code",
   "execution_count": null,
   "metadata": {},
   "outputs": [],
   "source": [
    "attributes.extend(production_countries_res)"
   ]
  },
  {
   "cell_type": "code",
   "execution_count": null,
   "metadata": {},
   "outputs": [],
   "source": [
    "attributes.append('num_production_countries')"
   ]
  },
  {
   "cell_type": "markdown",
   "metadata": {},
   "source": [
    "## Crew"
   ]
  },
  {
   "cell_type": "code",
   "execution_count": null,
   "metadata": {},
   "outputs": [],
   "source": [
    "crew_res = plot_multivalue_column(data, 'crew', Y='revenue', select=lambda x: x['name'], filt=lambda x: x['job'] == 'Director', min_entries=5, scatterplot=False)"
   ]
  },
  {
   "cell_type": "code",
   "execution_count": null,
   "metadata": {},
   "outputs": [],
   "source": [
    "crew_test_res = plot_multivalue_column(test, 'crew', select=lambda x: x['name'], filt=lambda x: x['job'] == 'Director', min_entries=5, scatterplot=False, list_entries=crew_res)"
   ]
  },
  {
   "cell_type": "markdown",
   "metadata": {},
   "source": [
    "Try to group directors"
   ]
  },
  {
   "cell_type": "code",
   "execution_count": null,
   "metadata": {},
   "outputs": [],
   "source": [
    "def get_director(df):\n",
    "    crew = df['crew'].apply(lambda x: eval(x) if not pd.isnull(x) else [])\n",
    "    directors = crew.apply(lambda crw: list(filter(lambda x: 'job' in x and x['job'] == 'Director', crw)))\n",
    "    director = directors.apply(lambda dir: dir[0] if len(dir) >= 1 else None)\n",
    "    return director.apply(lambda x: x['name'] if x else None)\n",
    "    "
   ]
  },
  {
   "cell_type": "code",
   "execution_count": null,
   "metadata": {},
   "outputs": [],
   "source": [
    "data['director'] = get_director(data)"
   ]
  },
  {
   "cell_type": "code",
   "execution_count": null,
   "metadata": {},
   "outputs": [],
   "source": [
    "test['director'] = get_director(test)"
   ]
  },
  {
   "cell_type": "code",
   "execution_count": null,
   "metadata": {},
   "outputs": [],
   "source": [
    "dir_total = list(data['director']) + list(test['director'])"
   ]
  },
  {
   "cell_type": "code",
   "execution_count": null,
   "metadata": {},
   "outputs": [],
   "source": [
    "train_dirs = list(dict.fromkeys(get_director(data)))"
   ]
  },
  {
   "cell_type": "code",
   "execution_count": null,
   "metadata": {},
   "outputs": [],
   "source": [
    "test_dirs = list(dict.fromkeys(get_director(test)))"
   ]
  },
  {
   "cell_type": "code",
   "execution_count": null,
   "metadata": {},
   "outputs": [],
   "source": [
    "both_dirs = dict.fromkeys(get_director(test) + get_director(data))"
   ]
  },
  {
   "cell_type": "code",
   "execution_count": null,
   "metadata": {},
   "outputs": [],
   "source": [
    "len(train_dirs)"
   ]
  },
  {
   "cell_type": "code",
   "execution_count": null,
   "metadata": {},
   "outputs": [],
   "source": [
    "len(test_dirs)"
   ]
  },
  {
   "cell_type": "code",
   "execution_count": null,
   "metadata": {},
   "outputs": [],
   "source": [
    "len(both_dirs)"
   ]
  },
  {
   "cell_type": "code",
   "execution_count": null,
   "metadata": {},
   "outputs": [],
   "source": [
    "min_samples = 3"
   ]
  },
  {
   "cell_type": "code",
   "execution_count": null,
   "metadata": {},
   "outputs": [],
   "source": [
    "mean_dir_rev = [(dir, data[data['director'] == dir]['revenue'].mean()) for dir in train_dirs if len(data[data['director'] == dir]) >= min_samples]"
   ]
  },
  {
   "cell_type": "code",
   "execution_count": null,
   "metadata": {},
   "outputs": [],
   "source": [
    "median_dir_rev = [(dir, data[data['director'] == dir]['revenue'].median()) for dir in train_dirs if len(data[data['director'] == dir]) >= min_samples]"
   ]
  },
  {
   "cell_type": "code",
   "execution_count": null,
   "metadata": {},
   "outputs": [],
   "source": [
    "dict_mean_dir_rev = dict(mean_dir_rev)"
   ]
  },
  {
   "cell_type": "code",
   "execution_count": null,
   "metadata": {},
   "outputs": [],
   "source": [
    "dict_median_dir_rev = dict(median_dir_rev)"
   ]
  },
  {
   "cell_type": "code",
   "execution_count": null,
   "metadata": {},
   "outputs": [],
   "source": [
    "len(list(filter(lambda x: x in dict_mean_dir_rev, test_dirs)))"
   ]
  },
  {
   "cell_type": "code",
   "execution_count": null,
   "metadata": {},
   "outputs": [],
   "source": [
    "len(list(filter(lambda x: x in dict_mean_dir_rev, train_dirs)))"
   ]
  },
  {
   "cell_type": "code",
   "execution_count": null,
   "metadata": {},
   "outputs": [],
   "source": [
    "def director_num_total(dir):\n",
    "    return dir_total.count(dir)"
   ]
  },
  {
   "cell_type": "code",
   "execution_count": null,
   "metadata": {},
   "outputs": [],
   "source": [
    "def director_in_dic(dir):\n",
    "    return director_num_total(dir) > 0"
   ]
  },
  {
   "cell_type": "code",
   "execution_count": null,
   "metadata": {},
   "outputs": [],
   "source": [
    "data['director_in_dic'] = data['director'].apply(lambda x: director_in_dic(x))"
   ]
  },
  {
   "cell_type": "code",
   "execution_count": null,
   "metadata": {},
   "outputs": [],
   "source": [
    "data['director_movies'] = data['director'].apply(lambda x: director_num_total(x))"
   ]
  },
  {
   "cell_type": "code",
   "execution_count": null,
   "metadata": {},
   "outputs": [],
   "source": [
    "test['director_in_dic'] = test['director'].apply(lambda x: director_in_dic(x))"
   ]
  },
  {
   "cell_type": "code",
   "execution_count": null,
   "metadata": {},
   "outputs": [],
   "source": [
    "test['director_movies'] = test['director'].apply(lambda x: director_num_total(x))"
   ]
  },
  {
   "cell_type": "code",
   "execution_count": null,
   "metadata": {},
   "outputs": [],
   "source": [
    "attributes.extend(crew_res)"
   ]
  },
  {
   "cell_type": "code",
   "execution_count": null,
   "metadata": {},
   "outputs": [],
   "source": [
    "attributes.append('num_crew')"
   ]
  },
  {
   "cell_type": "code",
   "execution_count": null,
   "metadata": {},
   "outputs": [],
   "source": [
    "attributes.extend(['director_in_dic','director_movies'])"
   ]
  },
  {
   "cell_type": "markdown",
   "metadata": {},
   "source": [
    "## Cast"
   ]
  },
  {
   "cell_type": "code",
   "execution_count": null,
   "metadata": {
    "scrolled": false
   },
   "outputs": [],
   "source": [
    "cast_res = plot_multivalue_column(data, 'cast', Y='revenue', select=lambda x: x['name'], filt=lambda x: x['order'] < 5, min_entries=15, scatterplot=False)"
   ]
  },
  {
   "cell_type": "code",
   "execution_count": null,
   "metadata": {},
   "outputs": [],
   "source": [
    "cast_test_res = plot_multivalue_column(test, 'cast', select=lambda x: x['name'], filt=lambda x: x['order'] < 5, min_entries=15, scatterplot=False, list_entries=cast_res)"
   ]
  },
  {
   "cell_type": "code",
   "execution_count": null,
   "metadata": {},
   "outputs": [],
   "source": [
    "gender_res = plot_multivalue_column(data, 'cast', Y='revenue', select=lambda x: x['gender'], filt=lambda x: x['order'] == 0, scatterplot=False, prefix='gender_')"
   ]
  },
  {
   "cell_type": "code",
   "execution_count": null,
   "metadata": {},
   "outputs": [],
   "source": [
    "gender_test_res = plot_multivalue_column(test, 'cast', select=lambda x: x['gender'], filt=lambda x: x['order'] == 0, scatterplot=False, prefix='gender_', list_entries=gender_res)"
   ]
  },
  {
   "cell_type": "code",
   "execution_count": null,
   "metadata": {},
   "outputs": [],
   "source": [
    "def gender_dist(df):\n",
    "    cast = df['cast'].apply(lambda x: eval(x) if not pd.isnull(x) else [])\n",
    "    genders = cast.apply(lambda cas: list(filter(lambda gender: gender != 0, [x['gender'] for x in cas])))\n",
    "    dist = genders.apply(lambda gen: 0.5 if len(gen) == 0 else len(list(filter(lambda g: g == 1, gen))) / len(gen))\n",
    "    return dist"
   ]
  },
  {
   "cell_type": "code",
   "execution_count": null,
   "metadata": {},
   "outputs": [],
   "source": [
    "data['gender_dist'] = gender_dist(data)"
   ]
  },
  {
   "cell_type": "code",
   "execution_count": null,
   "metadata": {},
   "outputs": [],
   "source": [
    "test['gender_dist'] = gender_dist(test)"
   ]
  },
  {
   "cell_type": "code",
   "execution_count": null,
   "metadata": {},
   "outputs": [],
   "source": [
    "plt.figure(figsize=(20,12))\n",
    "sns.scatterplot(x='gender_dist', y='revenue', data=data)\n",
    "plt.title(\"gender dist by revenue\",fontsize=20)\n",
    "plt.show()"
   ]
  },
  {
   "cell_type": "code",
   "execution_count": null,
   "metadata": {},
   "outputs": [],
   "source": [
    "attributes.extend(cast_res)"
   ]
  },
  {
   "cell_type": "code",
   "execution_count": null,
   "metadata": {},
   "outputs": [],
   "source": [
    "attributes.append('num_cast')"
   ]
  },
  {
   "cell_type": "code",
   "execution_count": null,
   "metadata": {},
   "outputs": [],
   "source": [
    "attributes.extend(gender_res)"
   ]
  },
  {
   "cell_type": "code",
   "execution_count": null,
   "metadata": {},
   "outputs": [],
   "source": [
    "attributes.append('gender_dist')"
   ]
  },
  {
   "cell_type": "markdown",
   "metadata": {},
   "source": [
    "NOTE: 2 male, 1 female, 0 ?"
   ]
  },
  {
   "cell_type": "markdown",
   "metadata": {},
   "source": [
    "## Original langauges"
   ]
  },
  {
   "cell_type": "code",
   "execution_count": null,
   "metadata": {},
   "outputs": [],
   "source": [
    "len(list(dict.fromkeys(list(data['original_language']))))"
   ]
  },
  {
   "cell_type": "code",
   "execution_count": null,
   "metadata": {},
   "outputs": [],
   "source": [
    "len(list(dict.fromkeys(list(test['original_language']))))"
   ]
  },
  {
   "cell_type": "code",
   "execution_count": null,
   "metadata": {},
   "outputs": [],
   "source": [
    "len(list(dict.fromkeys(list(test['original_language']) + list(data['original_language']))))"
   ]
  },
  {
   "cell_type": "code",
   "execution_count": null,
   "metadata": {},
   "outputs": [],
   "source": [
    "original_languages = list(dict.fromkeys(list(test['original_language']) + list(data['original_language'])))"
   ]
  },
  {
   "cell_type": "code",
   "execution_count": null,
   "metadata": {},
   "outputs": [],
   "source": [
    "org_lang_count = map(lambda l: (len(data[data['original_language'] == l]) + len(data[data['original_language'] == l]), l), original_languages)"
   ]
  },
  {
   "cell_type": "code",
   "execution_count": null,
   "metadata": {},
   "outputs": [],
   "source": [
    "org_langs = list(map(lambda x: x[1], filter(lambda x: x[0] > 50, org_lang_count)))"
   ]
  },
  {
   "cell_type": "code",
   "execution_count": null,
   "metadata": {},
   "outputs": [],
   "source": [
    "org_langs"
   ]
  },
  {
   "cell_type": "code",
   "execution_count": null,
   "metadata": {},
   "outputs": [],
   "source": [
    "for lang in org_langs:\n",
    "    data['org_lang_' + lang] = data['original_language'] == lang\n",
    "    test['org_lang_' + lang] = test['original_language'] == lang"
   ]
  },
  {
   "cell_type": "code",
   "execution_count": null,
   "metadata": {},
   "outputs": [],
   "source": [
    "org_langs_cols = list(map(lambda x: 'org_lang_'+ x, org_langs))"
   ]
  },
  {
   "cell_type": "code",
   "execution_count": null,
   "metadata": {},
   "outputs": [],
   "source": [
    "attributes.extend(org_langs_cols)"
   ]
  },
  {
   "cell_type": "markdown",
   "metadata": {},
   "source": [
    "## Checking correlation"
   ]
  },
  {
   "cell_type": "code",
   "execution_count": null,
   "metadata": {},
   "outputs": [],
   "source": [
    "corr = data.corr()[\"revenue\"]"
   ]
  },
  {
   "cell_type": "code",
   "execution_count": null,
   "metadata": {},
   "outputs": [],
   "source": [
    "corr.sort_values(ascending=False)"
   ]
  },
  {
   "cell_type": "markdown",
   "metadata": {},
   "source": [
    "## Settings up data for models"
   ]
  },
  {
   "cell_type": "code",
   "execution_count": null,
   "metadata": {},
   "outputs": [],
   "source": [
    "def get_cols(df, keep_rows):\n",
    "    data = df.copy()\n",
    "    drop_cols = [col for col in df.columns if not col in keep_rows]\n",
    "    data = data.drop(columns=drop_cols)\n",
    "    return data\n",
    "        \n",
    "    "
   ]
  },
  {
   "cell_type": "code",
   "execution_count": null,
   "metadata": {},
   "outputs": [],
   "source": [
    "def test_regressor(reg, X, y):\n",
    "    scores = np.sqrt(-cross_val_score(reg, X, y, scoring=\"neg_mean_squared_error\", cv=5, n_jobs=-1))\n",
    "    print(\"Scores:\", scores)\n",
    "    print(\"Mean\", scores.mean())\n",
    "    print(\"Std deviation\", scores.std())\n",
    "    X_train, X_test, y_train, y_test = train_test_split(x, y, test_size=0.2, random_state=RANDOM_STATE)\n",
    "\n",
    "    return scores"
   ]
  },
  {
   "cell_type": "code",
   "execution_count": null,
   "metadata": {},
   "outputs": [],
   "source": [
    "transformed_data = get_cols(data, attributes) * 1 # * 1 makes True/False become 1/0"
   ]
  },
  {
   "cell_type": "code",
   "execution_count": null,
   "metadata": {},
   "outputs": [],
   "source": [
    "transformed_data.head()"
   ]
  },
  {
   "cell_type": "code",
   "execution_count": null,
   "metadata": {},
   "outputs": [],
   "source": [
    "y=data['revenue'].apply(np.log1p)"
   ]
  },
  {
   "cell_type": "markdown",
   "metadata": {},
   "source": [
    "Because of the skewed revenue data we apply log to it"
   ]
  },
  {
   "cell_type": "code",
   "execution_count": null,
   "metadata": {},
   "outputs": [],
   "source": [
    "transformed_test= get_cols(test, attributes) * 1"
   ]
  },
  {
   "cell_type": "code",
   "execution_count": null,
   "metadata": {},
   "outputs": [],
   "source": [
    "rf = RandomForestRegressor(random_state=RANDOM_STATE, n_estimators=100)"
   ]
  },
  {
   "cell_type": "code",
   "execution_count": null,
   "metadata": {},
   "outputs": [],
   "source": [
    "test_regressor(rf, transformed_data, y)"
   ]
  },
  {
   "cell_type": "code",
   "execution_count": null,
   "metadata": {},
   "outputs": [],
   "source": [
    "rf.fit(transformed_data, y)\n",
    "perm = PermutationImportance(rf, random_state=RANDOM_STATE).fit(transformed_data, y)\n",
    "eli5.show_weights(perm, feature_names = transformed_data.columns.tolist())"
   ]
  },
  {
   "cell_type": "code",
   "execution_count": null,
   "metadata": {},
   "outputs": [],
   "source": [
    "gb = GradientBoostingRegressor(random_state=RANDOM_STATE, n_estimators=100)"
   ]
  },
  {
   "cell_type": "code",
   "execution_count": null,
   "metadata": {},
   "outputs": [],
   "source": [
    "test_regressor(gb, transformed_data, y)"
   ]
  },
  {
   "cell_type": "code",
   "execution_count": null,
   "metadata": {},
   "outputs": [],
   "source": [
    "gb.fit(transformed_data, y)\n",
    "perm = PermutationImportance(gb, random_state=RANDOM_STATE).fit(transformed_data, y)\n",
    "eli5.show_weights(perm, feature_names = transformed_data.columns.tolist())"
   ]
  },
  {
   "cell_type": "code",
   "execution_count": null,
   "metadata": {},
   "outputs": [],
   "source": [
    "hgb = HistGradientBoostingRegressor(random_state=RANDOM_STATE)"
   ]
  },
  {
   "cell_type": "code",
   "execution_count": null,
   "metadata": {
    "scrolled": true
   },
   "outputs": [],
   "source": [
    "test_regressor(hgb, transformed_data, y)"
   ]
  },
  {
   "cell_type": "code",
   "execution_count": null,
   "metadata": {},
   "outputs": [],
   "source": [
    "hgb.fit(transformed_data, y)\n",
    "perm = PermutationImportance(hgb, random_state=RANDOM_STATE).fit(transformed_data, y)\n",
    "eli5.show_weights(perm, feature_names = transformed_data.columns.tolist())"
   ]
  },
  {
   "cell_type": "markdown",
   "metadata": {},
   "source": [
    "## Trying other models"
   ]
  },
  {
   "cell_type": "markdown",
   "metadata": {},
   "source": [
    "Getting test and training data ready"
   ]
  },
  {
   "cell_type": "code",
   "execution_count": null,
   "metadata": {},
   "outputs": [],
   "source": [
    "x = transformed_data"
   ]
  },
  {
   "cell_type": "code",
   "execution_count": null,
   "metadata": {},
   "outputs": [],
   "source": [
    "pred_x = transformed_test"
   ]
  },
  {
   "cell_type": "code",
   "execution_count": null,
   "metadata": {},
   "outputs": [],
   "source": [
    "len(x.loc[0])"
   ]
  },
  {
   "cell_type": "code",
   "execution_count": null,
   "metadata": {},
   "outputs": [],
   "source": [
    "len(pred_x.loc[0])"
   ]
  },
  {
   "cell_type": "code",
   "execution_count": null,
   "metadata": {},
   "outputs": [],
   "source": [
    "X_train, X_test, y_train, y_test = train_test_split(x, y, test_size=0.2, random_state=RANDOM_STATE)"
   ]
  },
  {
   "cell_type": "markdown",
   "metadata": {},
   "source": [
    "For finding good parameters hyperopt will be used"
   ]
  },
  {
   "cell_type": "code",
   "execution_count": null,
   "metadata": {},
   "outputs": [],
   "source": [
    "from hyperopt import hp, fmin, tpe, Trials, STATUS_OK, space_eval"
   ]
  },
  {
   "cell_type": "code",
   "execution_count": null,
   "metadata": {},
   "outputs": [],
   "source": [
    "def search(x, y, x_test, y_test, objective, param_space, max_evals):\n",
    "    trials = Trials()\n",
    "    best = fmin(fn=partial(objective, x, y, x_test, y_test), space=param_space, algo=tpe.suggest, \n",
    "            max_evals=max_evals, trials=trials)\n",
    "    return space_eval(param_space, best)"
   ]
  },
  {
   "cell_type": "markdown",
   "metadata": {},
   "source": [
    "## Trying out lightgbm"
   ]
  },
  {
   "cell_type": "code",
   "execution_count": null,
   "metadata": {},
   "outputs": [],
   "source": [
    "import lightgbm as lgb"
   ]
  },
  {
   "cell_type": "code",
   "execution_count": null,
   "metadata": {},
   "outputs": [],
   "source": [
    "def params_lgb(args):\n",
    "    return {\n",
    "         'objective':'regression',\n",
    "         'num_leaves' : args['num_leaves'],\n",
    "         'learning_rate' : args['learning_rate'],\n",
    "         'min_data_in_leaf' : args['min_data_in_leaf'],\n",
    "         'max_depth' : args['max_depth'],\n",
    "         'feature_fraction':0.9,\n",
    "         \"bagging_freq\": 1,\n",
    "         \"bagging_fraction\": 0.9,\n",
    "         'lambda_l1': 0.2,\n",
    "         \"bagging_seed\": RANDOM_STATE,\n",
    "         \"metric\": 'rmse',\n",
    "         \"random_state\" : RANDOM_STATE\n",
    "    }\n",
    "\n",
    "def objective_lgb(x, y, x_test, y_test, args):\n",
    "    train_data = lgb.Dataset(x, y)\n",
    "    validation_data = lgb.Dataset(x_test, y_test, reference=train_data)\n",
    "    params = params_lgb(args)\n",
    "    \n",
    "    gbm = lgb.train(params=params,\n",
    "                    train_set=train_data,\n",
    "                    num_boost_round=5000,\n",
    "                    valid_sets=validation_data,\n",
    "                    verbose_eval=-1,\n",
    "                    early_stopping_rounds=50)\n",
    "    gbm_y_pred = gbm.predict(x_test, num_iteration=gbm.best_iteration)\n",
    "    score = np.sqrt(mean_squared_error(y_test, gbm_y_pred))\n",
    "    print(\"params: {}, score: {}\".format(args, score))\n",
    "    return {'loss': score, 'status': STATUS_OK}\n",
    "    \n",
    "    "
   ]
  },
  {
   "cell_type": "code",
   "execution_count": null,
   "metadata": {},
   "outputs": [],
   "source": [
    "param_space_gbm = {\n",
    "    'max_depth': hp.choice('max_depth', [8, 9, 10, 11, 12, 13]),\n",
    "    'num_leaves': hp.choice('num_leaves', [10, 15, 20, 30, 35, 40, 45, 50]),\n",
    "    'min_data_in_leaf': hp.choice('min_data_in_leaf', [5, 10, 20, 30]),\n",
    "    'learning_rate': hp.choice('learning_rate', [0.005, 0.01, 0.05, 0.1]),\n",
    "}"
   ]
  },
  {
   "cell_type": "code",
   "execution_count": null,
   "metadata": {
    "scrolled": false
   },
   "outputs": [],
   "source": [
    "best_params_lgb = search(X_train, y_train, X_test, y_test, objective_lgb, param_space_gbm, 20)"
   ]
  },
  {
   "cell_type": "markdown",
   "metadata": {},
   "source": [
    "## xgboost"
   ]
  },
  {
   "cell_type": "code",
   "execution_count": null,
   "metadata": {},
   "outputs": [],
   "source": [
    "import xgboost as xgb"
   ]
  },
  {
   "cell_type": "code",
   "execution_count": null,
   "metadata": {},
   "outputs": [],
   "source": [
    "import warnings\n",
    "warnings.simplefilter(action='ignore', category=FutureWarning)"
   ]
  },
  {
   "cell_type": "markdown",
   "metadata": {},
   "source": [
    "We get an annoying warning which I found no way of fixing, so we just hide it...."
   ]
  },
  {
   "cell_type": "code",
   "execution_count": null,
   "metadata": {},
   "outputs": [],
   "source": [
    "def params_xgb(args):\n",
    "    return {\n",
    "        'max_depth': args['max_depth'],\n",
    "        'learning_rate': args['learning_rate'],\n",
    "        'num_estimators': args['num_estimators'],\n",
    "        'gamma': args['gamma'],\n",
    "        'min_child_weight': args['min_child_weight'],\n",
    "        'subsample': args['subsample'],\n",
    "        'colsample_bytree': args['colsample_bytree']\n",
    "        \n",
    "    }\n",
    "\n",
    "def objective_xgb(x, y, x_test, y_test, args):\n",
    "    params = params_xgb(args)\n",
    "    dtrain = xgb.DMatrix(x, label=y)\n",
    "    dtest = xgb.DMatrix(x_test, label=y_test)\n",
    "    evallist = [(dtest, 'eval'), (dtrain, 'train')]\n",
    "    \n",
    "    num_round = 100\n",
    "    bst = xgb.train(params, dtrain, num_round, evallist,verbose_eval=False)\n",
    "    \n",
    "    xgb_y_pred = bst.predict(dtest)\n",
    "    \n",
    "    score = np.sqrt(mean_squared_error(y_test, xgb_y_pred))\n",
    "    print(\"params: {}, score: {}\".format(args, score))\n",
    "    return {'loss': score, 'status': STATUS_OK}"
   ]
  },
  {
   "cell_type": "code",
   "execution_count": null,
   "metadata": {},
   "outputs": [],
   "source": [
    "param_space_xgb = {\n",
    "    'max_depth': hp.choice('max_depth', [5,6,7, 8, 9, 10]),\n",
    "    'min_child_weight': hp.choice('min_child_weight', [1, 5, 10, 20]),\n",
    "    'gamma': hp.choice('gamma', [0.0, 1.0, 1.25, 1.5, 1.6]),\n",
    "    'subsample': hp.choice('subsample', [0.5, 0.6, 1.0]),\n",
    "    'colsample_bytree': hp.choice('colsample_bytree', [0.4,0.45, 0.5, 0.55, 0.6, 0.8, 0.9]),\n",
    "    'learning_rate': hp.choice('learning_rate', [0.05, 0.1, 0.15, 0.2]),\n",
    "    'num_estimators': hp.choice('num_estimators', [50, 100, 500, 600])\n",
    "}"
   ]
  },
  {
   "cell_type": "code",
   "execution_count": null,
   "metadata": {
    "scrolled": false
   },
   "outputs": [],
   "source": [
    "best_params_xgb = search(X_train, y_train, X_test, y_test, objective_xgb, param_space_xgb, 20)"
   ]
  },
  {
   "cell_type": "markdown",
   "metadata": {},
   "source": [
    "## trying catboost"
   ]
  },
  {
   "cell_type": "code",
   "execution_count": null,
   "metadata": {},
   "outputs": [],
   "source": [
    "import catboost"
   ]
  },
  {
   "cell_type": "code",
   "execution_count": null,
   "metadata": {},
   "outputs": [],
   "source": [
    "def params_cat(args):\n",
    "    return {\n",
    "        'iterations': 10000,\n",
    "        'max_depth': args['max_depth'],\n",
    "        'colsample_bylevel': args['colsample_bylevel'],\n",
    "        'learning_rate': args['learning_rate'],\n",
    "        'eval_metric' : 'RMSE',\n",
    "        'early_stopping_rounds': 200,\n",
    "        'random_seed': RANDOM_STATE\n",
    "    }\n",
    "    \n",
    "\n",
    "def objective_cat(x, y, x_test, y_test, args):\n",
    "    params = params_cat(args)\n",
    "    cb = catboost.CatBoostRegressor(**params)\n",
    "    cb.fit(x, y, verbose=False, use_best_model=True, eval_set=(x_test, y_test))\n",
    "    \n",
    "    cb_y_pred = cb.predict(x_test)\n",
    "    score = np.sqrt(mean_squared_error(y_test, cb_y_pred))\n",
    "    print(\"params: {}, score: {}\".format(args, score))\n",
    "    return {'loss': score, 'status': STATUS_OK}\n",
    "    "
   ]
  },
  {
   "cell_type": "code",
   "execution_count": null,
   "metadata": {},
   "outputs": [],
   "source": [
    "param_space_cat = {\n",
    "    'learning_rate':       hp.choice('learning_rate',       np.arange(0.1, 0.31, 0.05)),\n",
    "    'max_depth':           hp.choice('max_depth',           np.arange(5, 7, 1, dtype=int)),\n",
    "    'colsample_bylevel':   hp.choice('colsample_bylevel',   np.arange(0.4, 0.81, 0.05))\n",
    "}"
   ]
  },
  {
   "cell_type": "code",
   "execution_count": null,
   "metadata": {
    "scrolled": false
   },
   "outputs": [],
   "source": [
    "best_params_cat = search(X_train, y_train, X_test, y_test, objective_cat, param_space_cat, 20)"
   ]
  },
  {
   "cell_type": "markdown",
   "metadata": {},
   "source": [
    "## Combining"
   ]
  },
  {
   "cell_type": "code",
   "execution_count": null,
   "metadata": {},
   "outputs": [],
   "source": [
    "best_params_lgb"
   ]
  },
  {
   "cell_type": "code",
   "execution_count": null,
   "metadata": {},
   "outputs": [],
   "source": [
    "best_params_cat"
   ]
  },
  {
   "cell_type": "code",
   "execution_count": null,
   "metadata": {},
   "outputs": [],
   "source": [
    "best_params_xgb"
   ]
  },
  {
   "cell_type": "code",
   "execution_count": null,
   "metadata": {
    "scrolled": false
   },
   "outputs": [],
   "source": [
    "gkf = KFold(n_splits=5, shuffle=True, random_state=RANDOM_STATE).split(X=x, y=y)\n",
    "avg_split = [0, 0, 0]\n",
    "\n",
    "total_pred = np.zeros(len(pred_x))\n",
    "\n",
    "for i, (trn, val) in enumerate(gkf):\n",
    "    print(\"fold {}\".format(i + 1))\n",
    "    trn_x = x.loc[trn, :]\n",
    "    trn_y = y[trn]\n",
    "    val_x = x.loc[val, :]\n",
    "    val_y = y[val]\n",
    "    \n",
    "    # lightgbm\n",
    "    params = params_lgb(best_params_lgb)\n",
    "    train_data = lgb.Dataset(trn_x, trn_y)\n",
    "    validation_data = lgb.Dataset(val_x, val_y, reference=train_data)\n",
    "    gbm = lgb.train(params=params,\n",
    "                    train_set=train_data,\n",
    "                    num_boost_round=5000,\n",
    "                    valid_sets=validation_data,\n",
    "                    verbose_eval=-1,\n",
    "                    early_stopping_rounds=50)\n",
    "    gbm_pred = gbm.predict(val_x, num_iteration=gbm.best_iteration)\n",
    "    gbm_score = np.sqrt(mean_squared_error(val_y, gbm_pred))\n",
    "    print(\"Lightgbm score: {}\".format(gbm_score))\n",
    "    \n",
    "    # XGBoost\n",
    "    params = params_xgb(best_params_xgb)\n",
    "    dtrain = xgb.DMatrix(trn_x, label=trn_y)\n",
    "    dtest = xgb.DMatrix(val_x, label=val_y)\n",
    "    evallist = [(dtest, 'eval'), (dtrain, 'train')]\n",
    "    \n",
    "    num_round = 100\n",
    "    bst = xgb.train(params, dtrain, num_round, evallist,verbose_eval=False)\n",
    "    xgb_pred = bst.predict(dtest)\n",
    "    xgb_score = np.sqrt(mean_squared_error(val_y, xgb_pred))\n",
    "    print(\"XGBoost score: {}\".format(xgb_score))\n",
    "    \n",
    "    \n",
    "    \n",
    "    # CatBoost\n",
    "    params = params_cat(best_params_cat)\n",
    "    cb = catboost.CatBoostRegressor(**params)\n",
    "    cb.fit(trn_x, trn_y, verbose=False, use_best_model=True, eval_set=(val_x, val_y))\n",
    "    cb_pred = cb.predict(val_x)\n",
    "    cb_score = np.sqrt(mean_squared_error(val_y, cb_pred))\n",
    "    print(\"Catboost score: {}\".format(cb_score))\n",
    "    \n",
    "    \n",
    "    \n",
    "    # Combining equally\n",
    "    equal_pred = (cb_pred + xgb_pred + gbm_pred) / 3\n",
    "    equal_score = np.sqrt(mean_squared_error(val_y, equal_pred))\n",
    "    print(\"Combined equally score: {}\".format(equal_score))\n",
    "    \n",
    "    # Combined optimally\n",
    "    ys = []\n",
    "    \n",
    "    \n",
    "    for x1 in np.arange(10):\n",
    "        for x2 in np.arange(10):\n",
    "            for x3 in np.arange(10):\n",
    "                x_sum = x1 + x2 + x3\n",
    "                if x_sum != 0:\n",
    "                    f1 = float(x1) / x_sum\n",
    "                    f2 = float(x2) / x_sum\n",
    "                    f3 = float(x3) / x_sum\n",
    "                    pred = gbm_pred * f1 + xgb_pred * f2 + cb_pred * f3\n",
    "                    score = np.sqrt(mean_squared_error(val_y, pred))\n",
    "                    ys.append(((f1, f2, f3), score))\n",
    "    \n",
    "    ys.sort(key=lambda x: x[1])\n",
    "    print(\"Optimal combined score: {} with {}\".format(ys[0][1], ys[0][0]))\n",
    "    avg_split[0] += ys[0][0][0]\n",
    "    avg_split[1] += ys[0][0][1]\n",
    "    avg_split[2] += ys[0][0][2]\n",
    "    \n",
    "    \n",
    "    total_pred += gbm.predict(pred_x, num_iteration=gbm.best_iteration) * ys[0][0][0]\n",
    "    \n",
    "    dpred = xgb.DMatrix(pred_x)\n",
    "    total_pred += bst.predict(dpred) * ys[0][0][1]\n",
    "    \n",
    "    total_pred += cb.predict(pred_x) * ys[0][0][2]\n",
    "    \n",
    "total_pred /= 5\n",
    "avg_split[0] /= 5\n",
    "avg_split[1] /= 5\n",
    "avg_split[2] /= 5"
   ]
  },
  {
   "cell_type": "code",
   "execution_count": null,
   "metadata": {},
   "outputs": [],
   "source": [
    "avg_split"
   ]
  },
  {
   "cell_type": "code",
   "execution_count": null,
   "metadata": {},
   "outputs": [],
   "source": [
    "cv_pred = np.expm1(total_pred)"
   ]
  },
  {
   "cell_type": "code",
   "execution_count": null,
   "metadata": {},
   "outputs": [],
   "source": [
    "pd.DataFrame({'id': test.id, 'revenue': cv_pred}).to_csv('cv_submission.csv', index=False)"
   ]
  },
  {
   "cell_type": "code",
   "execution_count": null,
   "metadata": {},
   "outputs": [],
   "source": []
  },
  {
   "cell_type": "markdown",
   "metadata": {},
   "source": [
    "\n"
   ]
  },
  {
   "cell_type": "code",
   "execution_count": null,
   "metadata": {},
   "outputs": [],
   "source": [
    "# lightgbm\n",
    "params = params_lgb(best_params_lgb)\n",
    "train_data = lgb.Dataset(X_train, y_train)\n",
    "validation_data = lgb.Dataset(X_test, y_test, reference=train_data)\n",
    "gbm = lgb.train(params=params,\n",
    "                train_set=train_data,\n",
    "                num_boost_round=5000,\n",
    "                valid_sets=validation_data,\n",
    "                verbose_eval=-1,\n",
    "                early_stopping_rounds=50)\n",
    "gbm_pred = gbm.predict(X_test, num_iteration=gbm.best_iteration)\n",
    "gbm_score = np.sqrt(mean_squared_error(y_test, gbm_pred))\n",
    "print(\"Lightgbm score: {}\".format(gbm_score))\n",
    "\n",
    "# XGBoost\n",
    "params = params_xgb(best_params_xgb)\n",
    "dtrain = xgb.DMatrix(X_train, label=y_train)\n",
    "dtest = xgb.DMatrix(X_test, label=y_test)\n",
    "evallist = [(dtest, 'eval'), (dtrain, 'train')]\n",
    "\n",
    "num_round = 100\n",
    "bst = xgb.train(params, dtrain, num_round, evallist,verbose_eval=False)\n",
    "xgb_pred = bst.predict(dtest)\n",
    "xgb_score = np.sqrt(mean_squared_error(y_test, xgb_pred))\n",
    "print(\"XGBoost score: {}\".format(xgb_score))\n",
    "\n",
    "\n",
    "\n",
    "# CatBoost\n",
    "params = params_cat(best_params_cat)\n",
    "cb = catboost.CatBoostRegressor(**params)\n",
    "cb.fit(X_train, y_train, verbose=False, use_best_model=True, eval_set=(X_test, y_test))\n",
    "cb_pred = cb.predict(X_test)\n",
    "cb_score = np.sqrt(mean_squared_error(y_test, cb_pred))\n",
    "print(\"Catboost score: {}\".format(cb_score))\n",
    "\n",
    "\n",
    "avg_pred = gbm_pred * avg_split[0] + xgb_pred * avg_split[1] + cb_pred * avg_split[2]\n",
    "avg_score = np.sqrt(mean_squared_error(y_test, avg_pred))\n",
    "print(\"Average score: {}\".format(avg_score))\n",
    "\n",
    "\n",
    "gbm_pred = gbm.predict(pred_x, num_iteration=gbm.best_iteration)\n",
    "\n",
    "dpred = xgb.DMatrix(pred_x)\n",
    "xgb_pred = bst.predict(dpred)\n",
    "    \n",
    "cb_pred = cb.predict(pred_x)\n",
    "\n",
    "avg_pred = gbm_pred * avg_split[0] + xgb_pred * avg_split[1] + cb_pred * avg_split[2]\n",
    "\n",
    "\n",
    "\n",
    "pd.DataFrame({'id': test.id, 'revenue': np.expm1(avg_pred)}).to_csv('avg_submission.csv', index=False)\n",
    "pd.DataFrame({'id': test.id, 'revenue': np.expm1(gbm_pred)}).to_csv('gbm_submission.csv', index=False)\n",
    "pd.DataFrame({'id': test.id, 'revenue': np.expm1(xgb_pred)}).to_csv('xgb_submission.csv', index=False)\n",
    "pd.DataFrame({'id': test.id, 'revenue': np.expm1(cb_pred)}).to_csv('cb_submission.csv', index=False)\n",
    "\n",
    "\n"
   ]
  },
  {
   "cell_type": "markdown",
   "metadata": {},
   "source": [
    "## Uploading submissions to Kaggle"
   ]
  },
  {
   "cell_type": "code",
   "execution_count": null,
   "metadata": {},
   "outputs": [],
   "source": [
    "#os.system('kaggle competitions submit -c tmdb-box-office-prediction -f cv_submission.csv -m \"Cv\"')\n",
    "#os.system('kaggle competitions submit -c tmdb-box-office-prediction -f avg_submission.csv -m \"Avg\"')\n",
    "#os.system('kaggle competitions submit -c tmdb-box-office-prediction -f gbm_submission.csv -m \"lightgbm\"')\n",
    "#os.system('kaggle competitions submit -c tmdb-box-office-prediction -f xgb_submission.csv -m \"xgboost\"')\n",
    "#os.system('kaggle competitions submit -c tmdb-box-office-prediction -f cb_submission.csv -m \"catboost\"')\n"
   ]
  },
  {
   "cell_type": "code",
   "execution_count": null,
   "metadata": {},
   "outputs": [],
   "source": []
  }
 ],
 "metadata": {
  "kernelspec": {
   "display_name": "Python 3",
   "language": "python",
   "name": "python3"
  },
  "language_info": {
   "codemirror_mode": {
    "name": "ipython",
    "version": 3
   },
   "file_extension": ".py",
   "mimetype": "text/x-python",
   "name": "python",
   "nbconvert_exporter": "python",
   "pygments_lexer": "ipython3",
   "version": "3.7.3"
  }
 },
 "nbformat": 4,
 "nbformat_minor": 4
}
